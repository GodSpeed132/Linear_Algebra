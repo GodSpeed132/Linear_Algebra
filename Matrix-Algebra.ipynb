{
 "cells": [
  {
   "cell_type": "markdown",
   "id": "44375505",
   "metadata": {},
   "source": [
    "# James Vincent Bacus\n",
    "\n",
    "## Matrix Algebra"
   ]
  },
  {
   "cell_type": "markdown",
   "id": "582fd4b8",
   "metadata": {},
   "source": [
    "1. Without the use of any python libraries or modules, develop a function that can perform matrix addition, \n",
    "given two numpy matrices."
   ]
  },
  {
   "cell_type": "code",
   "execution_count": 2,
   "id": "d0a8b2e1",
   "metadata": {},
   "outputs": [
    {
     "name": "stdout",
     "output_type": "stream",
     "text": [
      "[14, 10, 14]\n",
      "[5, 6, 6]\n",
      "[9, 10, 10]\n"
     ]
    }
   ],
   "source": [
    "def add_matrices(matrix1, matrix2):\n",
    "    # Convert NumPy matrices to native Python lists\n",
    "    matrix1 = matrix1.tolist() if hasattr(matrix1, 'tolist') else matrix1\n",
    "    matrix2 = matrix2.tolist() if hasattr(matrix2, 'tolist') else matrix2\n",
    "\n",
    "    # Check if matrices have the same dimensions\n",
    "    if len(matrix1) != len(matrix2) or len(matrix1[0]) != len(matrix2[0]):\n",
    "        raise ValueError(\"Matrices must have the same dimensions for addition\")\n",
    "\n",
    "    # Initialize the result matrix with zeros\n",
    "    result = [[0 for _ in range(len(matrix1[0]))] for _ in range(len(matrix1))]\n",
    "\n",
    "    # Perform matrix addition\n",
    "    for i in range(len(matrix1)):\n",
    "        for j in range(len(matrix1[0])):\n",
    "            result[i][j] = matrix1[i][j] + matrix2[i][j]\n",
    "\n",
    "    return result\n",
    "\n",
    "# Example NumPy matrices\n",
    "import numpy as np\n",
    "\n",
    "matrix_A = np.array([\n",
    "    [5, 2, 7],\n",
    "    [4, 5, 6],\n",
    "    [7, 8, 9]\n",
    "])\n",
    "\n",
    "matrix_B = np.array([\n",
    "    [9, 8, 7],\n",
    "    [1, 1, 0],\n",
    "    [2, 2, 1]\n",
    "])\n",
    "\n",
    "\n",
    "result_matrix = add_matrices(matrix_A, matrix_B)\n",
    "\n",
    "\n",
    "for row in result_matrix:\n",
    "    print(row)\n"
   ]
  },
  {
   "cell_type": "markdown",
   "id": "54994441",
   "metadata": {},
   "source": [
    "2. Without the use of any python libraries or modules, develop a function that can multiply two numpy matrices."
   ]
  },
  {
   "cell_type": "code",
   "execution_count": 7,
   "id": "e9fec3ab",
   "metadata": {},
   "outputs": [
    {
     "name": "stdout",
     "output_type": "stream",
     "text": [
      "[6.0]\n",
      "[-2.0]\n"
     ]
    }
   ],
   "source": [
    "def multiply_matrices(matrix1, matrix2):\n",
    "    # Convert NumPy matrices to native Python lists\n",
    "    matrix1 = matrix1.tolist() if hasattr(matrix1, 'tolist') else matrix1\n",
    "    matrix2 = matrix2.tolist() if hasattr(matrix2, 'tolist') else matrix2\n",
    "\n",
    "    # Check if matrices can be multiplied\n",
    "    if len(matrix1[0]) != len(matrix2):\n",
    "        raise ValueError(\"Number of columns in the first matrix must be equal to the number of rows in the second matrix for multiplication\")\n",
    "\n",
    "    # Initialize the result matrix with zeros\n",
    "    result = [[0 for _ in range(len(matrix2[0]))] for _ in range(len(matrix1))]\n",
    "\n",
    "    # Perform matrix multiplication\n",
    "    for i in range(len(matrix1)):\n",
    "        for j in range(len(matrix2[0])):\n",
    "            for k in range(len(matrix2)):\n",
    "                result[i][j] += matrix1[i][k] * matrix2[k][j]\n",
    "\n",
    "    return result\n",
    "\n",
    "# Example NumPy matrices\n",
    "import numpy as np\n",
    "\n",
    "matrix_A = np.array([\n",
    "    [3, -1],\n",
    "    [-1, 0.5]\n",
    "])\n",
    "\n",
    "matrix_B = np.array([\n",
    "    [2],\n",
    "    [0],\n",
    "\n",
    "])\n",
    "\n",
    "\n",
    "result_matrix = multiply_matrices(matrix_A, matrix_B)\n",
    "\n",
    "\n",
    "for row in result_matrix:\n",
    "    print(row)\n"
   ]
  },
  {
   "cell_type": "markdown",
   "id": "4763e245",
   "metadata": {},
   "source": []
  },
  {
   "cell_type": "markdown",
   "id": "a4bb39e4",
   "metadata": {},
   "source": [
    "3. The rule of distributivity states that given two matrices A and B and a scalar, k, then k(A+B)=kA+kB. Instead of writing a proof mathematically, develop two codes for k(A+B) and kA+kB."
   ]
  },
  {
   "cell_type": "code",
   "execution_count": 21,
   "id": "eb9f4f12",
   "metadata": {},
   "outputs": [
    {
     "name": "stdout",
     "output_type": "stream",
     "text": [
      "k(A+B) =\n",
      "[10.0, 0.0]\n",
      "[-2.0, 5.0]\n",
      "\n",
      "kA+kB =\n",
      "[10.0, 0.0]\n",
      "[-2.0, 5.0]\n"
     ]
    }
   ],
   "source": [
    "def scalar_multiply(scalar, matrix):\n",
    "    \n",
    "    matrix = matrix.tolist() if hasattr(matrix, 'tolist') else matrix\n",
    "    \n",
    "    # Check if the matrix is non-empty\n",
    "    if not matrix or not matrix[0]:\n",
    "        raise ValueError(\"Matrix must be non-empty for scalar multiplication\")\n",
    "\n",
    "    # Initialize the result matrix with zeros\n",
    "    result = [[0 for _ in range(len(matrix[0]))] for _ in range(len(matrix))]\n",
    "\n",
    "    # Perform scalar multiplication\n",
    "    for i in range(len(matrix)):\n",
    "        for j in range(len(matrix[0])):\n",
    "            result[i][j] = scalar * matrix[i][j]\n",
    "\n",
    "    return result\n",
    "\n",
    "#k(A+B)\n",
    "def case1(k, A, B):\n",
    "    sum_matrix = add_matrices(matrix_A, matrix_B)\n",
    "    result = scalar_multiply(k, sum_matrix)\n",
    "\n",
    "    print(\"k(A+B) =\")\n",
    "    for row in result:\n",
    "        print(row)\n",
    "        \n",
    "#kA+kB\n",
    "def case2(k, A, B):\n",
    "    kA = scalar_multiply(k,A)\n",
    "    kB = scalar_multiply(k,B)\n",
    "    result = add_matrices(kA, kB)\n",
    "    \n",
    "    print(\"\\nkA+kB =\")\n",
    "    for row in result:\n",
    "        print(row)\n",
    "\n",
    "scalar_k = 2\n",
    "\n",
    "matrix_A = np.array([\n",
    "    [3, -1],\n",
    "    [-1, 0.5]\n",
    "])\n",
    "\n",
    "matrix_B = np.array([\n",
    "    [2,1],\n",
    "    [0,2],\n",
    "\n",
    "])\n",
    "\n",
    "case1(scalar_k, matrix_A, matrix_B)\n",
    "case2(scalar_k, matrix_A, matrix_B)"
   ]
  },
  {
   "cell_type": "code",
   "execution_count": null,
   "id": "6f85318c",
   "metadata": {},
   "outputs": [],
   "source": [
    "4. Without using a python library or modules develop a function that can extract the diagonal of a numpy matrix."
   ]
  },
  {
   "cell_type": "code",
   "execution_count": 23,
   "id": "aaff88e7",
   "metadata": {},
   "outputs": [
    {
     "name": "stdout",
     "output_type": "stream",
     "text": [
      "Diagonal elements: [1, 2, 3, 4]\n"
     ]
    }
   ],
   "source": [
    "def find_diagonal(matrix):\n",
    "    # Convert NumPy matrix to native Python list of lists\n",
    "    matrix = matrix.tolist() if hasattr(matrix, 'tolist') else matrix\n",
    "    \n",
    "    # Check if the matrix is square\n",
    "    rows, columns = len(matrix), len(matrix[0])\n",
    "    if rows != columns:\n",
    "        raise ValueError(\"Input matrix must be a square matrix\")\n",
    "\n",
    "    # Find diagonal elements\n",
    "    diagonal_elements = [matrix[i][i] for i in range(rows)]\n",
    "\n",
    "    return diagonal_elements\n",
    "\n",
    "# Example NumPy matrix\n",
    "import numpy as np\n",
    "\n",
    "matrix_A = np.array([\n",
    "    [1, 5, 8, 10],\n",
    "    [11, 2, 6, 9],\n",
    "    [14, 12, 3, 7],\n",
    "    [16, 15, 13, 4]\n",
    "])\n",
    "\n",
    "\n",
    "diagonal_elements = find_diagonal(matrix_A)\n",
    "\n",
    "\n",
    "print(\"Diagonal elements:\", diagonal_elements)\n"
   ]
  },
  {
   "cell_type": "code",
   "execution_count": null,
   "id": "3828f1c4",
   "metadata": {},
   "outputs": [],
   "source": [
    "5. Without using a python library or modules develop a function that can find a trace of a numpy matrix."
   ]
  },
  {
   "cell_type": "code",
   "execution_count": 26,
   "id": "7ad054ab",
   "metadata": {},
   "outputs": [
    {
     "name": "stdout",
     "output_type": "stream",
     "text": [
      "Trace of the matrix: 10\n"
     ]
    }
   ],
   "source": [
    "def matrix_trace(A):\n",
    "    \n",
    "    diagonal_elements = find_diagonal(A)\n",
    "    trace = sum(diagonal_elements)\n",
    "\n",
    "    return trace\n",
    "\n",
    "\n",
    "import numpy as np\n",
    "\n",
    "matrix_A = np.array([\n",
    "    [1, 5, 8, 10],\n",
    "    [11, 2, 6, 9],\n",
    "    [14, 12, 3, 7],\n",
    "    [16, 15, 13, 4]\n",
    "])\n",
    "\n",
    "\n",
    "trace_A = matrix_trace_from_diagonal(matrix_A)\n",
    "print(\"Trace of the matrix:\", trace_A)\n",
    "\n"
   ]
  },
  {
   "cell_type": "markdown",
   "id": "4d949177",
   "metadata": {},
   "source": [
    "1. Solve X given that:\n",
    "$\\begin{equation}\n",
    "A =\n",
    "\\begin{bmatrix}\n",
    "1 & 2 \\\\\n",
    "3 & 4 \\\\\n",
    "\\end{bmatrix},\n",
    "B =\n",
    "\\begin{bmatrix}\n",
    "-1 & 0 \\\\\n",
    "1 & 1 \\\\\n",
    "\\end{bmatrix}\n",
    "\\end{equation}$"
   ]
  },
  {
   "cell_type": "markdown",
   "id": "ce3a0992",
   "metadata": {},
   "source": [
    "$3X = A-2B$"
   ]
  },
  {
   "cell_type": "markdown",
   "id": "2e224bd7",
   "metadata": {},
   "source": [
    "$3X = A-2B = \\begin{bmatrix} 1 & 2 \\\\ 3 & 4 \\end{bmatrix} - 2\\begin{bmatrix} -1 & 0 \\\\ 1 & 1 \\end{bmatrix} = \n",
    "\\begin{bmatrix} 1 & 2 \\\\ 3 & 4 \\end{bmatrix} + \\begin{bmatrix} 2 & 0 \\\\ -2 & -2 \\end{bmatrix} = \\begin{bmatrix} 3 & 2 \\\\ 1 & 2 \\end{bmatrix}\\\\ 3X = \\begin{bmatrix} 3 & 2 \\\\ 1 & 2 \\end{bmatrix}\\frac{1}{3} = \\begin{bmatrix} 1 & \\frac{2}{3} \\\\ \\frac{1}{3} & \\frac{2}{3} \\end{bmatrix}$"
   ]
  },
  {
   "cell_type": "markdown",
   "id": "f528f22d",
   "metadata": {},
   "source": [
    "$2(A-B+2X) = 3(X-B)$"
   ]
  },
  {
   "cell_type": "markdown",
   "id": "0b36fd13",
   "metadata": {},
   "source": [
    "$2(A-B+2X) = 3(X-B) \\\\ 2(\\begin{bmatrix} 1 & 2 \\\\ 3 & 4 \\end{bmatrix} - \\begin{bmatrix} -1 & 0 \\\\ 1 & 1 \\end{bmatrix} + 2X) = 3(X - \\begin{bmatrix} -1 & 0 \\\\ 1 & 1 \\end{bmatrix}) \\\\2(\\begin{bmatrix} 0 & 2 \\\\ 2 & 3 \\end{bmatrix} + 2X) = 3X + \\begin{bmatrix} 3 & 0 \\\\ -3 & -3 \\end{bmatrix} \\\\ 2\\begin{bmatrix} 0 & 2 \\\\ 2 & 3 \\end{bmatrix} + 4X = 3X + \\begin{bmatrix} 3 & 0 \\\\ -3 & -3 \\end{bmatrix}\\\\ \\begin{bmatrix} 0 & 4 \\\\ 4 & 6 \\end{bmatrix} + 4X = 3X + \\begin{bmatrix} 3 & 0 \\\\ -3 & -3 \\end{bmatrix}\\\\ 4X - 3X = \\begin{bmatrix} 3 & 0 \\\\ -3 & -3 \\end{bmatrix} - \\begin{bmatrix} 0 & 4 \\\\ 4 & 6 \\end{bmatrix} \\\\\n",
    "X = \\begin{bmatrix} 3 & -4 & \\\\ -7 & -9 \\end{bmatrix}$"
   ]
  },
  {
   "cell_type": "markdown",
   "id": "54bc1aa2",
   "metadata": {},
   "source": [
    "2. Write B as a linear combination of the other matrices, if possible. "
   ]
  },
  {
   "cell_type": "markdown",
   "id": "738d6da5",
   "metadata": {},
   "source": [
    "$\\begin{equation}\n",
    "A_1 =\n",
    "\\begin{bmatrix}\n",
    "1 & 2 \\\\\n",
    "-1 & 1 \\\\\n",
    "\\end{bmatrix},\n",
    "A_2 =\n",
    "\\begin{bmatrix}\n",
    "0 & 1 \\\\\n",
    "2 & 1 \\\\\n",
    "\\end{bmatrix},\n",
    "B =\n",
    "\\begin{bmatrix}\n",
    "2 & 5 \\\\\n",
    "0 & 3 \\\\\n",
    "\\end{bmatrix}\n",
    "\\end{equation}$"
   ]
  },
  {
   "cell_type": "markdown",
   "id": "7f778cc5",
   "metadata": {},
   "source": [
    "$ 1x + 0y = 2 \\rightarrow x = 2 \\\\ 2x + 1y = 5 2(2) + y = 5 \\rightarrow 4 + y = 5 \\rightarrow y = 5 - 4 \\rightarrow y = 1\n",
    "\\\\ -1x + 2y = 0 \\rightarrow -1(2) + 2y = 0 \\rightarrow -2 + 2y = 0 \\rightarrow y = \\frac{2}{2} \\rightarrow y = 1 \\\\\n",
    "1x + 1y = 3 \\rightarrow x + 1 = 3 \\rightarrow x = 3 - 1 \\rightarrow x = 2$"
   ]
  },
  {
   "cell_type": "markdown",
   "id": "19f9efc9",
   "metadata": {},
   "source": [
    "$\\begin{equation}\n",
    "A_1 =\n",
    "\\begin{bmatrix}\n",
    "1 & 0 \\\\\n",
    "0 & 1 \\\\\n",
    "\\end{bmatrix},\n",
    "A_2 =\n",
    "\\begin{bmatrix}\n",
    "0 & 1 \\\\\n",
    "1 & 0 \\\\\n",
    "\\end{bmatrix},\n",
    "A_3 =\n",
    "\\begin{bmatrix}\n",
    "1 & -1 \\\\\n",
    "1 & 1 \\\\\n",
    "\\end{bmatrix},\n",
    "B =\n",
    "\\begin{bmatrix}\n",
    "2 & 5 \\\\\n",
    "0 & 3 \\\\\n",
    "\\end{bmatrix}\n",
    "\\end{equation}$"
   ]
  },
  {
   "cell_type": "markdown",
   "id": "66fab571",
   "metadata": {},
   "source": [
    "$1x + 0y + 1z = 2\\\\ 0x + 1y + -z = 5 \\\\ 0x + 1y + 1z = 0\\\\ 1x + 0y + 1z = 3$\n",
    "x + z is equal to both 2 and 3 at the same time. This inconsistency shows that B is not a linear combination of A_1, A_2, and A_3"
   ]
  },
  {
   "cell_type": "markdown",
   "id": "1cd72d81",
   "metadata": {},
   "source": [
    "3. Given the following:"
   ]
  },
  {
   "cell_type": "markdown",
   "id": "8aadd8e8",
   "metadata": {},
   "source": [
    "$\\begin{equation}\n",
    "A =\n",
    "\\begin{bmatrix}\n",
    "1 & 2 \\\\\n",
    "2 & 6 \\\\\n",
    "\\end{bmatrix},\n",
    "b_1 =\n",
    "\\begin{bmatrix}\n",
    "3 \\\\\n",
    "5 \\\\\n",
    "\\end{bmatrix},\n",
    "b_2 =\n",
    "\\begin{bmatrix}\n",
    "-1 \\\\\n",
    "2 \\\\\n",
    "\\end{bmatrix},\n",
    "b_3 =\n",
    "\\begin{bmatrix}\n",
    "2 \\\\\n",
    "0 \\\\\n",
    "\\end{bmatrix}\n",
    "\\end{equation}$"
   ]
  },
  {
   "cell_type": "markdown",
   "id": "a45c97f7",
   "metadata": {},
   "source": [
    "- Find $A^{-1}$, and use this to solve for $Ax=b_1,Ax=b_2,Ax=b_3$\n",
    " - Solve all three linear systems by row reducing the augmented matrix: \\begin{equation}\n",
    "\\begin{bmatrix}\n",
    "\\begin{array}{c|ccc}\n",
    "A &\n",
    "b_1 &\n",
    "b_2 &\n",
    "b_3 \\\\\n",
    "\\end{array}\n",
    "\\end{bmatrix}\n",
    "\\end{equation}"
   ]
  },
  {
   "cell_type": "markdown",
   "id": "864d9c8e",
   "metadata": {},
   "source": [
    "$A^{-1} = \\frac{1}{ad - bc} \\begin{bmatrix}6 & -2\\\\ -2 & 1\\end{bmatrix} = \\frac{1}{6}\\begin{bmatrix}6 & -2\\\\ -2 & 1\\end{bmatrix}\n",
    "= \\frac{1}{2}\\begin{bmatrix}6 & -2\\\\ -2 & 1\\end{bmatrix} = \\begin{bmatrix}3 & -1\\\\ -1 & \\frac{1}{2}\\end{bmatrix}$\n",
    "\n",
    "$Ax = b_1 \\rightarrow x = A^{-1}b_1 = \\begin{bmatrix} 3 & -1 \\\\ -1 & \\frac{1}{2}\\end{bmatrix} \\begin{bmatrix}3 \\\\ 5\\end{bmatrix} = \\begin{bmatrix} 3 & -1\\end{bmatrix} \\begin{bmatrix} 3 \\\\ 5 \\end{bmatrix} \\begin{bmatrix} -1 & \\frac{1}{2}\\end{bmatrix} \\begin{bmatrix} 3 \\\\ 5 \\end{bmatrix} = \\begin{bmatrix} 4 \\\\ -0.5 \\end{bmatrix}$\n",
    "\n",
    "$Ax = b_2 \\rightarrow x = A^{-1}b_2 = \\begin{bmatrix} 3 & -1 \\\\ -1 & \\frac{1}{2}\\end{bmatrix} \\begin{bmatrix}-1 \\\\ 2\\end{bmatrix} = \\begin{bmatrix} 3 & -1\\end{bmatrix} \\begin{bmatrix} -1 \\\\ 2 \\end{bmatrix} \\begin{bmatrix} -1 & \\frac{1}{2}\\end{bmatrix} \\begin{bmatrix} -1 \\\\ 2 \\end{bmatrix} = \\begin{bmatrix} -5 \\\\ 2 \\end{bmatrix}$\n",
    "$Ax = b_3 \\rightarrow x = A^{-1}b_3 = \\begin{bmatrix} 3 & -1 \\\\ -1 & \\frac{1}{2}\\end{bmatrix} \\begin{bmatrix}2 \\\\ 0\\end{bmatrix} = \\begin{bmatrix} 3 & -1\\end{bmatrix} \\begin{bmatrix} 2 \\\\ 0 \\end{bmatrix} \\begin{bmatrix} -1 & \\frac{1}{2}\\end{bmatrix} \\begin{bmatrix} 2 \\\\ 0 \\end{bmatrix} = \\begin{bmatrix} 6\\\\ -2\\end{bmatrix}$\n",
    "\n",
    "$\\begin{bmatrix} 1 & 2 & | & 3 & -1 & 2 \\\\ 2 & 6 & | & 5 & 2 & 0 \\end{bmatrix} \\xrightarrow{\\text{R}_{2} - 2\\text{R}_{1}}\n",
    "\\begin{bmatrix} 1 & 2 & | & 3 & -1 & 2 \\\\ 0 & 2 & | & -1 & 4 & -4 \\end{bmatrix} \\xrightarrow{\\text{R}_{1} - \\text{R}_{2}}\n",
    "\\begin{bmatrix} 1 & 0 & | & 4 & -5 & 6 \\\\ 0 & 2 & | & -1 & 4 & -4 \\end{bmatrix} \\xrightarrow{\\frac{1}{2}\\text{R}_{2}}\n",
    "\\begin{bmatrix} 1 & 0 & | & 4 & -5 & 6 \\\\ 0 & 1 & | & \\frac{-1}{2} & 2 & -2 \\end{bmatrix}$"
   ]
  },
  {
   "cell_type": "markdown",
   "id": "3ff73327",
   "metadata": {},
   "source": [
    "4. In each given, determine if b is in col(A) and w is in row(A)"
   ]
  },
  {
   "cell_type": "markdown",
   "id": "12839d4a",
   "metadata": {},
   "source": [
    "$\\begin{equation}\n",
    "A =\n",
    "\\begin{bmatrix}\n",
    "1 & 0 & -1 \\\\\n",
    "1 & 1 & 1 \\\\\n",
    "\\end{bmatrix},\n",
    "b =\n",
    "\\begin{bmatrix}\n",
    "3 \\\\\n",
    "2 \\\\\n",
    "\\end{bmatrix},\n",
    "w =\n",
    "\\begin{bmatrix}\n",
    "-1 &\n",
    "1 &\n",
    "1\n",
    "\\end{bmatrix},\n",
    "\\end{equation}$"
   ]
  },
  {
   "cell_type": "markdown",
   "id": "3a0327ea",
   "metadata": {},
   "source": [
    "$ \\begin{bmatrix}\n",
    "1 & 0 & -1 & | & 3\\\\\n",
    "1 & 1 & 1 & | & 2\\\\\n",
    "\\end{bmatrix} \\xrightarrow{\\text{R}_{2} - 2\\text{R}_{1}} \n",
    "\\begin{bmatrix}\n",
    "1 & 0 & -1 & | & 3\\\\\n",
    "0 & 1 & 2 & | & -1\\\\\n",
    "\\end{bmatrix}\\\\ x  -z = 3 \\rightarrow z = x - 3\\\\ y + 2z = -1 \\rightarrow y + 2(x-3) = -1 \\rightarrow y + 2x - 6 = -1\n",
    "\\\\b is in col(A) $\n",
    "\n",
    "$ \\begin{bmatrix}\n",
    "1 & 0 & -1 \\\\\n",
    "1 & 1 & 1 \\\\\n",
    "-1 & 1 & 1 \\\\\n",
    "\\end{bmatrix} \\xrightarrow{\\text{R}_{1} - \\text{R}_{2}} \n",
    "\\begin{bmatrix}\n",
    "0 & -1 & 0\\\\\n",
    "1 & 1 & 1\\\\\n",
    "-1 & 1 & 1\n",
    "\\end{bmatrix} \\xrightarrow{\\text{R}_{3} + \\text{R}_{2}} \n",
    "\\begin{bmatrix}\n",
    "0 & -1 & 0\\\\\n",
    "1 & 1 & 1\\\\\n",
    "0 & 2 & 2\n",
    "\\end{bmatrix} \\text{R}_{1}\\leftrightarrow\\text{R}_{2}\n",
    "\\begin{bmatrix}\n",
    "1 & 1 & 1\\\\\n",
    "0 & -1 & 0\\\\\n",
    "0 & 2 & 2\n",
    "\\end{bmatrix} \\xrightarrow{\\text{R}_{2} + \\frac{1}{2}\\text{R}_{3}}\n",
    "\\begin{bmatrix}\n",
    "1 & 1 & 1\\\\\n",
    "0 & 0 & 1\\\\\n",
    "0 & 2 & 2\n",
    "\\end{bmatrix} \\xrightarrow{\\frac{1}{2}\\text{R}_{3}}\n",
    "\\begin{bmatrix}\n",
    "1 & 1 & 1\\\\\n",
    "0 & 0 & 1\\\\\n",
    "0 & 1 & 1\n",
    "\\end{bmatrix} \\text{R}_{2}\\leftrightarrow\\text{R}_{3}\n",
    "\\begin{bmatrix}\n",
    "1 & 1 & 1\\\\\n",
    "0 & 1 & 1 \\\\\n",
    "0 & 0 & 1\n",
    "\\end{bmatrix} \\xrightarrow{\\text{R}_{1} - \\text{R}_{2}}\n",
    "\\begin{bmatrix}\n",
    "1 & 0 & 0\\\\\n",
    "0 & 1 & 1 \\\\\n",
    "0 & 0 & 1\n",
    "\\end{bmatrix} \\xrightarrow{\\text{R}_{2} - \\text{R}_{3}}\n",
    "\\begin{bmatrix}\n",
    "1 & 0 & 0\\\\\n",
    "0 & 1 & 0 \\\\\n",
    "0 & 0 & 1\n",
    "\\end{bmatrix}$<br>\n",
    "w is row(A)"
   ]
  },
  {
   "cell_type": "markdown",
   "id": "8a90728a",
   "metadata": {},
   "source": [
    "$\\begin{equation}\n",
    "A =\n",
    "\\begin{bmatrix}\n",
    "1 & 1 & -1 \\\\\n",
    "1 & 3 & 0 \\\\\n",
    "3 & -1 & -5 \\\\\n",
    "\\end{bmatrix},\n",
    "b =\n",
    "\\begin{bmatrix}\n",
    "1 \\\\\n",
    "2 \\\\\n",
    "1 \\\\\n",
    "\\end{bmatrix},\n",
    "w =\n",
    "\\begin{bmatrix}\n",
    "1 &\n",
    "-3 &\n",
    "-3\n",
    "\\end{bmatrix},\n",
    "\\end{equation}$"
   ]
  },
  {
   "cell_type": "markdown",
   "id": "6e1cb2ea",
   "metadata": {},
   "source": [
    "$\\begin{bmatrix}1 & 1 & -1 & | & 1\\\\ 1 & 3 & 0 & | & 2 \\\\ 3 & -1 & -5 & | & 1\\end{bmatrix} \\xrightarrow{\\text{R}_{2} - \\text{R}_{1}} \\begin{bmatrix}1 & 1 & -1 & | & 1\\\\ 0 & 2 & -1 & | & 1 \\\\ 3 & -1 & -5 & | & 1\\end{bmatrix}\n",
    "\\xrightarrow{\\text{R}_{3} - 3\\text{R}_{1}} \\begin{bmatrix}1 & 1 & -1 & | & 1\\\\ 0 & 2 & -1 & | & 1 \\\\ 0 & -4 & -2 & | & -2\\end{bmatrix} \\xrightarrow{\\frac{1}{2}\\text{R}_{2},\\frac{1}{4}\\text{R}_{3}} \\begin{bmatrix}1 & 1 & -1 & | & 1\\\\ 0 & 1 & \\frac{-1}{2} & | & \\frac{1}{2} \\\\ 0 & -1 & \\frac{-1}{2} & | & -2\\end{bmatrix} \\xrightarrow{\\text{R}_{3} + \\text{R}_{2}}\n",
    "\\begin{bmatrix}1 & 1 & -1 & | & 1\\\\ 0 & 1 & \\frac{-1}{2} & | & \\frac{1}{2} \\\\ 0 & 0 & -1 & | & 0\\end{bmatrix}$\n",
    "b is not in row(A)\n",
    "\n",
    "$\\begin{bmatrix}\n",
    "1 & 1 & -1 \\\\\n",
    "1 & 3 & 0 \\\\\n",
    "3 & -1 & -5 \\\\\n",
    "1 & -3 & -3\n",
    "\\end{bmatrix} \\xrightarrow{\\text{R}_{2} - \\text{R}_{4}}\n",
    "\\begin{bmatrix}\n",
    "1 & 1 & -1 \\\\\n",
    "0 & 6 & -3 \\\\\n",
    "3 & -1 & -5 \\\\\n",
    "1 & -3 & -3\n",
    "\\end{bmatrix} \\xrightarrow{\\text{R}_{3} - 3\\text{R}_{4}}\n",
    "\\begin{bmatrix}\n",
    "1 & 1 & -1 \\\\\n",
    "0 & 6 & -3 \\\\\n",
    "0 & 8 & 4 \\\\\n",
    "1 & -3 & -3\n",
    "\\end{bmatrix} \\xrightarrow{\\text{R}_{4} - \\text{R}_{1}}\n",
    "\\begin{bmatrix}\n",
    "1 & 1 & -1 \\\\\n",
    "0 & 6 & -3 \\\\\n",
    "0 & 8 & 4 \\\\\n",
    "0 & -4 & 2\n",
    "\\end{bmatrix} \\xrightarrow{\\frac{1}{3}\\text{R}_{2},\\frac{1}{4}\\text{R}_{3},\\frac{1}{2}\\text{R}_{4}}\n",
    "\\begin{bmatrix}\n",
    "1 & 1 & -1 \\\\\n",
    "0 & 2 & -1 \\\\\n",
    "0 & 2 & 1 \\\\\n",
    "0 & -2 & 1\n",
    "\\end{bmatrix} \\xrightarrow{\\text{R}_{4} + \\text{R}_{2}}\n",
    "\\begin{bmatrix}\n",
    "1 & 1 & -1 \\\\\n",
    "0 & 2 & -1 \\\\\n",
    "0 & 2 & 1 \\\\\n",
    "0 & 0 & 0\n",
    "\\end{bmatrix} \\xrightarrow{\\text{R}_{3} - \\text{R}_{2}}\n",
    "\\begin{bmatrix}\n",
    "1 & 1 & -1 \\\\\n",
    "0 & 2 & -1 \\\\\n",
    "0 & 0 & 2 \\\\\n",
    "0 & 0 & 0\n",
    "\\end{bmatrix}$\n",
    "w is not in row(A)"
   ]
  },
  {
   "cell_type": "markdown",
   "id": "a32d34b4",
   "metadata": {},
   "source": [
    "5. Find the rank and nullity of:"
   ]
  },
  {
   "cell_type": "markdown",
   "id": "ee1f0e29",
   "metadata": {},
   "source": [
    "$\\begin{bmatrix}\n",
    "2 & 4 & 0 & 0 & 1 \\\\\n",
    "6 & 3 & 5 & 1 & 0 \\\\\n",
    "1 & 0 & 2 & 2 & 5 \\\\\n",
    "1 & 1 & 1 & 1 & 1 \\\\\n",
    "\\end{bmatrix} \\xrightarrow{\\text{R}_{2} - 3\\text{R}_{1}}\n",
    "\\begin{bmatrix}\n",
    "2 & 4 & 0 & 0 & 1 \\\\\n",
    "0 & -9 & 5 & 1 & -3 \\\\\n",
    "1 & 0 & 2 & 2 & 5 \\\\\n",
    "1 & 1 & 1 & 1 & 1 \\\\\n",
    "\\end{bmatrix} \\xrightarrow{\\text{R}_{3} - 0.5\\text{R}_{1}}\n",
    "\\begin{bmatrix}\n",
    "2 & 4 & 0 & 0 & 1 \\\\\n",
    "0 & -9 & 5 & 1 & -3 \\\\\n",
    "0 & -2 & 2 & 2 & 4.5 \\\\\n",
    "1 & 1 & 1 & 1 & 1 \\\\\n",
    "\\end{bmatrix}\n",
    "\\xrightarrow{\\text{R}_{4} - 0.5\\text{R}_{1}}\n",
    "\\begin{bmatrix}\n",
    "2 & 4 & 0 & 0 & 1 \\\\\n",
    "0 & -9 & 5 & 1 & -3 \\\\\n",
    "0 & -2 & 2 & 2 & 4.5 \\\\\n",
    "0 & -1 & 1 & 1 & 0.5 \\\\\n",
    "\\end{bmatrix} \\xrightarrow{\\text{R}_{4} - 0.5\\text{R}_{3}}\n",
    "\\begin{bmatrix}\n",
    "2 & 4 & 0 & 0 & 1 \\\\\n",
    "0 & -9 & 5 & 1 & -3 \\\\\n",
    "0 & -2 & 2 & 2 & 4.5 \\\\\n",
    "0 & 0 & 0 & 0 & -1.75 \\\\\n",
    "\\end{bmatrix}\\xrightarrow{\\text{R}_{3} - 0.5\\text{R}_{1}}\n",
    "\\begin{bmatrix}\n",
    "2 & 4 & 0 & 0 & 1 \\\\\n",
    "0 & -9 & 5 & 1 & -3 \\\\\n",
    "0 & 0 & 2 & 2 & 5 \\\\\n",
    "0 & 0 & 0 & 0 & -1.75 \\\\\n",
    "\\end{bmatrix}\n",
    "$\n",
    "rank(A) = 4\n",
    "nullity(A) = cols - rank(A) = 5 - 4 = 1"
   ]
  },
  {
   "cell_type": "code",
   "execution_count": null,
   "id": "60709c12",
   "metadata": {},
   "outputs": [],
   "source": []
  }
 ],
 "metadata": {
  "kernelspec": {
   "display_name": "Python 3 (ipykernel)",
   "language": "python",
   "name": "python3"
  },
  "language_info": {
   "codemirror_mode": {
    "name": "ipython",
    "version": 3
   },
   "file_extension": ".py",
   "mimetype": "text/x-python",
   "name": "python",
   "nbconvert_exporter": "python",
   "pygments_lexer": "ipython3",
   "version": "3.11.4"
  }
 },
 "nbformat": 4,
 "nbformat_minor": 5
}
