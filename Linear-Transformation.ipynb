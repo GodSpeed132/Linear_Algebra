{
 "cells": [
  {
   "cell_type": "markdown",
   "id": "e5365297",
   "metadata": {},
   "source": [
    "# James Vincent Bacus\n",
    "\n",
    "## Linear Transformation"
   ]
  },
  {
   "cell_type": "markdown",
   "id": "13eeb007",
   "metadata": {},
   "source": [
    "1. Develop a python function from scratch that will find the determinants of any n x n\n",
    " matrix."
   ]
  },
  {
   "cell_type": "code",
   "execution_count": 26,
   "id": "e604a2bb",
   "metadata": {},
   "outputs": [
    {
     "name": "stdout",
     "output_type": "stream",
     "text": [
      "15\n"
     ]
    }
   ],
   "source": [
    "def determinant(matrix):\n",
    "    \"\"\"\n",
    "    Recursive function to calculate the determinant of an n x n matrix using cofactor expansion.\n",
    "    \"\"\"\n",
    "    size = len(matrix)\n",
    "\n",
    "    if size == 1:\n",
    "        return matrix[0][0]\n",
    "    elif size == 2:\n",
    "        return matrix[0][0] * matrix[1][1] - matrix[0][1] * matrix[1][0]\n",
    "\n",
    "    det = 0\n",
    "    for col in range(size):\n",
    "        det += ((-1) ** col) * matrix[0][col] * determinant(minor(matrix, 0, col))\n",
    "    return det\n",
    "\n",
    "def minor(matrix, row, col):\n",
    "    \"\"\"\n",
    "    Calculate the minor matrix obtained by removing the specified row and column.\n",
    "    \"\"\"\n",
    "    return [[matrix[i][j] for j in range(len(matrix[i])) if j != col] for i in range(len(matrix)) if i != row]\n",
    "\n",
    "matrix_A = [\n",
    "    [1, -4, 2],\n",
    "    [-2, 8, -9],\n",
    "    [-1, 7, 0]\n",
    "]\n",
    "\n",
    "print(determinant(matrix_A))"
   ]
  },
  {
   "cell_type": "code",
   "execution_count": null,
   "id": "ed241af1",
   "metadata": {},
   "outputs": [],
   "source": []
  },
  {
   "cell_type": "markdown",
   "id": "f5de1175",
   "metadata": {},
   "source": [
    "2. Develop a python function from scratch that will find both the eigenvectors and eigenvalues of any n x n\n",
    " matrix."
   ]
  },
  {
   "cell_type": "code",
   "execution_count": 1,
   "id": "18cce050",
   "metadata": {},
   "outputs": [
    {
     "name": "stdout",
     "output_type": "stream",
     "text": [
      "\n",
      "Eigenvalue: 6.50348637347834\n",
      "Corresponding Matrix:\n",
      "[1.0, -4.0, 2.0]\n",
      "[-2.0, 8.0, -9.0]\n",
      "[-1.0, 7.0, 0.0]\n"
     ]
    },
    {
     "ename": "NameError",
     "evalue": "name 'determinant' is not defined",
     "output_type": "error",
     "traceback": [
      "\u001b[1;31m---------------------------------------------------------------------------\u001b[0m",
      "\u001b[1;31mNameError\u001b[0m                                 Traceback (most recent call last)",
      "Cell \u001b[1;32mIn[1], line 65\u001b[0m\n\u001b[0;32m     56\u001b[0m     \u001b[38;5;28;01mreturn\u001b[39;00m eigenvalues, eigenvectors\n\u001b[0;32m     59\u001b[0m matrix_A \u001b[38;5;241m=\u001b[39m [\n\u001b[0;32m     60\u001b[0m     [\u001b[38;5;241m1.0\u001b[39m, \u001b[38;5;241m-\u001b[39m\u001b[38;5;241m4.0\u001b[39m, \u001b[38;5;241m2.0\u001b[39m],\n\u001b[0;32m     61\u001b[0m     [\u001b[38;5;241m-\u001b[39m\u001b[38;5;241m2.0\u001b[39m, \u001b[38;5;241m8.0\u001b[39m, \u001b[38;5;241m-\u001b[39m\u001b[38;5;241m9.0\u001b[39m],\n\u001b[0;32m     62\u001b[0m     [\u001b[38;5;241m-\u001b[39m\u001b[38;5;241m1.0\u001b[39m, \u001b[38;5;241m7.0\u001b[39m, \u001b[38;5;241m0.0\u001b[39m]\n\u001b[0;32m     63\u001b[0m ]\n\u001b[1;32m---> 65\u001b[0m eigenvalues, eigenvectors \u001b[38;5;241m=\u001b[39m eigen(matrix_A)\n\u001b[0;32m     67\u001b[0m \u001b[38;5;28mprint\u001b[39m(\u001b[38;5;124m\"\u001b[39m\u001b[38;5;130;01m\\n\u001b[39;00m\u001b[38;5;124mEigenvalues:\u001b[39m\u001b[38;5;124m\"\u001b[39m, eigenvalues)\n\u001b[0;32m     68\u001b[0m \u001b[38;5;28mprint\u001b[39m(\u001b[38;5;124m\"\u001b[39m\u001b[38;5;124mEigenvectors:\u001b[39m\u001b[38;5;124m\"\u001b[39m, eigenvectors)\n",
      "Cell \u001b[1;32mIn[1], line 48\u001b[0m, in \u001b[0;36meigen\u001b[1;34m(matrix)\u001b[0m\n\u001b[0;32m     46\u001b[0m \u001b[38;5;28;01mfor\u001b[39;00m row \u001b[38;5;129;01min\u001b[39;00m matrix:\n\u001b[0;32m     47\u001b[0m     \u001b[38;5;28mprint\u001b[39m(row)\n\u001b[1;32m---> 48\u001b[0m \u001b[38;5;28mprint\u001b[39m(\u001b[38;5;124m\"\u001b[39m\u001b[38;5;124mDeterminant:\u001b[39m\u001b[38;5;124m\"\u001b[39m, determinant(matrix))\n\u001b[0;32m     50\u001b[0m eigenvalues\u001b[38;5;241m.\u001b[39mappend(dominant_eigenvalue)\n\u001b[0;32m     51\u001b[0m eigenvectors\u001b[38;5;241m.\u001b[39mappend(dominant_eigenvector)\n",
      "\u001b[1;31mNameError\u001b[0m: name 'determinant' is not defined"
     ]
    }
   ],
   "source": [
    "def normalize(vector):\n",
    "    \"\"\"\n",
    "    Normalize a vector.\n",
    "    \"\"\"\n",
    "    magnitude = sum(x**2 for x in vector)**0.5\n",
    "    return [x / magnitude for x in vector]\n",
    "\n",
    "def power_iteration(matrix, num_iterations=1000, tolerance=1e-10):\n",
    "    \"\"\"\n",
    "    Perform power iteration to find the dominant eigenvalue and eigenvector.\n",
    "    \"\"\"\n",
    "    n = len(matrix)\n",
    "\n",
    "    # Initialize a random initial guess for the eigenvector\n",
    "    eigenvector = [1.0] * n\n",
    "\n",
    "    for _ in range(num_iterations):\n",
    "        # Multiply matrix by the current eigenvector\n",
    "        matrix_times_vector = [sum(matrix[i][j] * eigenvector[j] for j in range(n)) for i in range(n)]\n",
    "\n",
    "        # Find the new eigenvector\n",
    "        new_eigenvector = normalize(matrix_times_vector)\n",
    "\n",
    "        # Check for convergence\n",
    "        if sum(abs(new_eigenvector[i] - eigenvector[i]) for i in range(n)) < tolerance:\n",
    "            break\n",
    "\n",
    "        eigenvector = new_eigenvector\n",
    "\n",
    "    # Calculate the dominant eigenvalue\n",
    "    eigenvalue = sum(matrix[i][j] * eigenvector[j] for j in range(n) for i in range(n))\n",
    "\n",
    "    return eigenvalue, eigenvector\n",
    "\n",
    "def eigen(matrix):\n",
    "    n = len(matrix)\n",
    "    eigenvalues = []\n",
    "    eigenvectors = []\n",
    "\n",
    "    for _ in range(n):\n",
    "        dominant_eigenvalue, dominant_eigenvector = power_iteration(matrix)\n",
    "\n",
    "        # Print eigenvalue, matrix, and determinant\n",
    "        print(\"\\nEigenvalue:\", dominant_eigenvalue)\n",
    "        print(\"Corresponding Matrix:\")\n",
    "        for row in matrix:\n",
    "            print(row)\n",
    "        print(\"Determinant:\", determinant(matrix))\n",
    "\n",
    "        eigenvalues.append(dominant_eigenvalue)\n",
    "        eigenvectors.append(dominant_eigenvector)\n",
    "\n",
    "        matrix = [[matrix[i][j] - dominant_eigenvalue * dominant_eigenvector[i] * dominant_eigenvector[j]\n",
    "                   for j in range(n)] for i in range(n)]\n",
    "\n",
    "    return eigenvalues, eigenvectors\n",
    "\n",
    "\n",
    "matrix_A = [\n",
    "    [1.0, -4.0, 2.0],\n",
    "    [-2.0, 8.0, -9.0],\n",
    "    [-1.0, 7.0, 0.0]\n",
    "]\n",
    "\n",
    "eigenvalues, eigenvectors = eigen(matrix_A)\n",
    "\n",
    "print(\"\\nEigenvalues:\", eigenvalues)\n",
    "print(\"Eigenvectors:\", eigenvectors)\n"
   ]
  },
  {
   "cell_type": "code",
   "execution_count": null,
   "id": "3c7ea17e",
   "metadata": {},
   "outputs": [],
   "source": []
  },
  {
   "cell_type": "code",
   "execution_count": null,
   "id": "6ae7b01f",
   "metadata": {},
   "outputs": [],
   "source": [
    "\n"
   ]
  },
  {
   "cell_type": "code",
   "execution_count": null,
   "id": "9ef58011",
   "metadata": {},
   "outputs": [],
   "source": []
  },
  {
   "cell_type": "code",
   "execution_count": null,
   "id": "4e717730",
   "metadata": {},
   "outputs": [],
   "source": []
  },
  {
   "cell_type": "markdown",
   "id": "34a45e57",
   "metadata": {},
   "source": [
    "3. Test your functions from a randomly generated n x n matrix"
   ]
  },
  {
   "cell_type": "code",
   "execution_count": 91,
   "id": "f9d88455",
   "metadata": {
    "scrolled": true
   },
   "outputs": [
    {
     "name": "stdout",
     "output_type": "stream",
     "text": [
      "Random Matrix with Whole Numbers:\n",
      "[4.764690193086862, -0.5097765341430964, 1.8025769693335612]\n",
      "[1.4691590298112542, 3.462186675066164, 0.05879195782664226]\n",
      "[-0.9600171689985366, -4.973225139667825, -1.7734977706130604]\n",
      "\n",
      "Eigenvalue: 3.255516276456126\n",
      "Corresponding Matrix:\n",
      "[4.764690193086862, -0.5097765341430964, 1.8025769693335612]\n",
      "[1.4691590298112542, 3.462186675066164, 0.05879195782664226]\n",
      "[-0.9600171689985366, -4.973225139667825, -1.7734977706130604]\n",
      "Determinant: -36.341529273420285\n",
      "\n",
      "Eigenvalue: -1.7087523869102987\n",
      "Corresponding Matrix:\n",
      "[2.677579745657998, -1.7141072475593793, 2.796649172607453]\n",
      "[0.2648283163949714, 2.7672486237212754, 0.6324039998874625]\n",
      "[0.0340550342753555, -4.399613097607005, -2.2469655482954347]\n",
      "Determinant: -13.777997076505041\n",
      "\n",
      "Eigenvalue: 4.466339834138347\n",
      "Corresponding Matrix:\n",
      "[4.206601398396116, -1.2867296158154362, 2.4930696210946386]\n",
      "[0.6922059481389145, 2.886705166267926, 0.5475503226755698]\n",
      "[-0.26952451723745907, -4.484466774818897, -2.186691356669905]\n",
      "Determinant: -23.781255111560395\n",
      "Determinant:  -36.341529273420285\n"
     ]
    }
   ],
   "source": [
    "import random\n",
    "\n",
    "def generate_random_matrix(n, lower_limit=-10, upper_limit=10, whole_numbers=True):\n",
    "    \"\"\"\n",
    "    Parameters:\n",
    "    - n: Size of the square matrix (number of rows and columns).\n",
    "    - lower_limit: Lower limit for the random elements.\n",
    "    - upper_limit: Upper limit for the random elements.\n",
    "    - whole_numbers: If True, generate random whole numbers; otherwise, generate floats.\n",
    "    \"\"\"\n",
    "    if whole_numbers:\n",
    "        return [[random.randint(lower_limit, upper_limit) for _ in range(n)] for _ in range(n)]\n",
    "    else:\n",
    "        return [[random.uniform(lower_limit, upper_limit) for _ in range(n)] for _ in range(n)]\n",
    "\n",
    "\n",
    "n = 3\n",
    "matrix_A = generate_random_matrix(n, lower_limit=-5, upper_limit=5, whole_numbers=False)\n",
    "print(\"Random Matrix with Whole Numbers:\")\n",
    "for row in matrix_A:\n",
    "    print(row)\n",
    "\n",
    "eigen(matrix_A)\n",
    "\n",
    "print(\"Determinant: \",determinant(matrix_A))\n",
    "\n",
    "\n"
   ]
  },
  {
   "cell_type": "code",
   "execution_count": null,
   "id": "d37c9200",
   "metadata": {},
   "outputs": [],
   "source": []
  },
  {
   "cell_type": "code",
   "execution_count": null,
   "id": "0298a01d",
   "metadata": {},
   "outputs": [],
   "source": []
  }
 ],
 "metadata": {
  "kernelspec": {
   "display_name": "Python 3 (ipykernel)",
   "language": "python",
   "name": "python3"
  },
  "language_info": {
   "codemirror_mode": {
    "name": "ipython",
    "version": 3
   },
   "file_extension": ".py",
   "mimetype": "text/x-python",
   "name": "python",
   "nbconvert_exporter": "python",
   "pygments_lexer": "ipython3",
   "version": "3.11.4"
  }
 },
 "nbformat": 4,
 "nbformat_minor": 5
}
