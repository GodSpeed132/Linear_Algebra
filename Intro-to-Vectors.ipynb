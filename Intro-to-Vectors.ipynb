{
 "cells": [
  {
   "cell_type": "markdown",
   "id": "7027907f",
   "metadata": {},
   "source": [
    "#### \n",
    "# James Vincent Bacus\n",
    "\n",
    "## Intro Vectors"
   ]
  },
  {
   "cell_type": "markdown",
   "id": "d5a68b0e",
   "metadata": {},
   "source": [
    "##### 1. Let  $\\textbf{u} = (1, -2, 4),\\space \\textbf{v} = (3, 5, 1) \\space and\\space \\textbf{w} = (2, 1, -3) \\\\ find \\space the \\space ff:$\n",
    " a) $3{u} - 2{v}$<br>\n",
    "$3{u} - 2{v} = 3(1, -2, 4) - 2(3, 5, 1) = (3,-6,12) - (6,10,2) = (-3,-16,10)$\n",
    "<br><br><b> Pythonic Solution: <b>"
   ]
  },
  {
   "cell_type": "code",
   "execution_count": 31,
   "id": "78be12ca",
   "metadata": {},
   "outputs": [
    {
     "name": "stdout",
     "output_type": "stream",
     "text": [
      "3 * [ 1 -2  4]\n",
      "2 * [3 5 1]\n",
      "3u-2v [ -3 -16  10]\n"
     ]
    }
   ],
   "source": [
    "## 1a ##\n",
    "import numpy as np\n",
    "\n",
    "u = np.array([1, -2, 4])   \n",
    "v = np.array([3, 5, 1])   \n",
    "print(f\"3 * {u}\")\n",
    "print(f\"2 * {v}\")\n",
    "result = 3*u - 2*v\n",
    "print(\"3u-2v = \",result)"
   ]
  },
  {
   "cell_type": "markdown",
   "id": "fcb990a4",
   "metadata": {},
   "source": [
    "###### b) $5{u} + 3{v} - 4{w}$\n",
    "$5(1, -2, 4) + 3(3, 5, 1) - 4(2, 1, -3) = (5,-10,20) + (9,15,3) - (8,4,-12) = (6,1,35)$\n",
    "<br><br><b> Pythonic Solution: <b>"
   ]
  },
  {
   "cell_type": "code",
   "execution_count": 32,
   "id": "d77b7a53",
   "metadata": {},
   "outputs": [
    {
     "name": "stdout",
     "output_type": "stream",
     "text": [
      "5*[ 1 -2  4] + 3*[3 5 1] - 4*[ 2  1 -3]\n",
      "5u+3v-4w =  [ 6  1 35]\n"
     ]
    }
   ],
   "source": [
    "## 1b ##\n",
    "import numpy as np\n",
    "\n",
    "u = np.array([1, -2, 4]) #vector u\n",
    "v = np.array([3, 5, 1])  #vector v\n",
    "w = np.array([2,1,-3])   #vector w\n",
    "\n",
    "print(f\"5*{u} + 3*{v} - 4*{w}\")\n",
    "result = 5*u + 3*v - 4*w\n",
    "print(\"5u+3v-4w = \",result)"
   ]
  },
  {
   "cell_type": "markdown",
   "id": "235bb775",
   "metadata": {},
   "source": [
    "###### c) ${u}\\cdotp{v}, {v}\\cdotp{w}, {u}\\cdotp{w}$\n",
    "${u}\\cdotp{v} = 1(3) + -2(5) + 4(1) = 3 - 10 + 4 = -3$<br>\n",
    "${v}\\cdotp{w} = 3(2) + 5(1) + 1(-3) = 6 + 5 -3 = 8$<br>\n",
    "${u}\\cdotp{w} = 1(2) + -2(1) + 4(-3) = 2 - 2 -12 = -12$<br>\n",
    "\n",
    "<br><br><b> Pythonic Solution: <b>"
   ]
  },
  {
   "cell_type": "code",
   "execution_count": 6,
   "id": "e2018146",
   "metadata": {},
   "outputs": [
    {
     "name": "stdout",
     "output_type": "stream",
     "text": [
      "u.v =  -3\n",
      "v.w =  8\n",
      "u.w =  -12\n"
     ]
    }
   ],
   "source": [
    "## 1c ##\n",
    "import numpy as np\n",
    "\n",
    "u = np.array([1, -2, 4]) #vector u\n",
    "v = np.array([3, 5, 1])  #vector v\n",
    "w = np.array([2,1,-3])   #vector w\n",
    "\n",
    "print(\"u.v = \", u.dot(v))\n",
    "print(\"v.w = \", v.dot(w))\n",
    "print(\"u.w = \", u.dot(w))"
   ]
  },
  {
   "cell_type": "markdown",
   "id": "2354f0a1",
   "metadata": {},
   "source": [
    "###### d) $||\\textbf{u}||, ||\\textbf{v}||, ||\\textbf{w}||$\n",
    "$||\\textbf{u}|| = \\sqrt{{u}\\cdot{u}} = \\sqrt{(1)^2 + (-2)^2 + (4)^2} = \\sqrt{1+4+16} = \\sqrt{21}$<br>\n",
    "$||\\textbf{v}|| = \\sqrt{{v}\\cdot{v}} = \\sqrt{(3)^2 + (5)^2 + (1)^2} = \\sqrt{9+25+1} = \\sqrt{35}$<br>\n",
    "$||\\textbf{w}|| = \\sqrt{{w}\\cdot{w}} = \\sqrt{(2)^2 + (1)^2 + (-3)^2} = \\sqrt{4+1+9} = \\sqrt{14}$<br>\n",
    "<b> Pythonic Solution: <b>"
   ]
  },
  {
   "cell_type": "code",
   "execution_count": 1,
   "id": "8241a8e6",
   "metadata": {},
   "outputs": [
    {
     "name": "stdout",
     "output_type": "stream",
     "text": [
      "||u||:  4.58257569495584\n",
      "sqrt(21):  4.58257569495584\n",
      "||v||:  5.916079783099616\n",
      "sqrt(35):  5.916079783099616\n",
      "||w||:  3.7416573867739413\n",
      "sqrt(14):  3.7416573867739413\n"
     ]
    }
   ],
   "source": [
    "## 1d ##\n",
    "import numpy as np\n",
    "\n",
    "u = np.array([1, -2, 4]) #vector u\n",
    "v = np.array([3, 5, 1])  #vector v\n",
    "w = np.array([2,1,-3])   #vector w\n",
    "\n",
    "print('||u||: ', np.sqrt(u.dot(u)))\n",
    "print('sqrt(21): ', np.sqrt(21))\n",
    "\n",
    "print('||v||: ', np.sqrt(v.dot(v)))\n",
    "print('sqrt(35): ', np.sqrt(35))\n",
    "\n",
    "print('||w||: ', np.sqrt(w.dot(w)))\n",
    "print('sqrt(14): ', np.sqrt(14))"
   ]
  },
  {
   "cell_type": "markdown",
   "id": "3205e67b",
   "metadata": {},
   "source": [
    "###### e) If $\\theta$ is the angle between $\\textbf{u}$  and   $\\textbf{v}$, find $\\cos{\\theta}$.\n",
    "$\\cos{\\theta} = \\frac{u \\cdotp v}{||u|| \\ ||v||}$<br>\n",
    "${u}\\cdotp{v} = 1(3) + -2(5) + 4(1) = 3 - 10 + 4 = -3$<br>\n",
    "$||\\textbf{u}|| = \\sqrt{{u}\\cdot{u}} = \\sqrt{(1)^2 + (-2)^2 + (4)^2} = \\sqrt{1+4+16} = \\sqrt{21}$<br>\n",
    "$||\\textbf{v}|| = \\sqrt{{v}\\cdot{v}} = \\sqrt{(3)^2 + (5)^2 + (1)^2} = \\sqrt{9+25+1} = \\sqrt{35}$<br>\n",
    "$\\cos{\\theta} = \\frac{u \\cdotp v}{||u|| \\ ||v||} = \\frac{-3}{\\sqrt{21}\\sqrt{35}}$<br>\n",
    "<b> Pythonic Solution: <b>"
   ]
  },
  {
   "cell_type": "code",
   "execution_count": 16,
   "id": "c928448b",
   "metadata": {},
   "outputs": [
    {
     "name": "stdout",
     "output_type": "stream",
     "text": [
      "angle =  -3.8729833462074175\n",
      "angle: -3.8729833462074175\n"
     ]
    }
   ],
   "source": [
    "##1e##\n",
    "u = np.array([1, -2, 4]) #vector u\n",
    "v = np.array([3, 5, 1])  #vector v\n",
    "\n",
    "\n",
    "print('angle = ', u.dot(v)/np.linalg.norm(u)*np.linalg.norm(v))\n",
    "print('angle:', -3/np.sqrt(21)*np.sqrt(35))"
   ]
  },
  {
   "cell_type": "markdown",
   "id": "f7bc94a9",
   "metadata": {},
   "source": [
    "###### f) If $\\alpha$ is the angle between $\\textbf{v}$  and   $\\textbf{w}$, find $\\cos{\\alpha}$.\n",
    "$\\cos{\\alpha} = \\frac{v \\cdotp w}{||v|| \\ ||w||}$<br>\n",
    "${v}\\cdotp{w} = 3(2) + 5(1) + 1(-3) = 6 + 5 -3 = 8$<br>\n",
    "$||\\textbf{v}|| = \\sqrt{{v}\\cdot{v}} = \\sqrt{(3)^2 + (5)^2 + (1)^2} = \\sqrt{9+25+1} = \\sqrt{35}$<br>\n",
    "$||\\textbf{w}|| = \\sqrt{{w}\\cdot{w}} = \\sqrt{(2)^2 + (1)^2 + (-3)^2} = \\sqrt{4+1+9} = \\sqrt{14}$<br>\n",
    "$\\cos{\\alpha} = \\frac{v \\cdotp w}{||v|| \\ ||w||} = \\frac{8}{\\sqrt{35}\\sqrt{14}}$<br>\n",
    "<b> Pythonic Solution: <b>"
   ]
  },
  {
   "cell_type": "code",
   "execution_count": 17,
   "id": "20d74235",
   "metadata": {},
   "outputs": [
    {
     "name": "stdout",
     "output_type": "stream",
     "text": [
      "angle =  5.059644256269406\n",
      "angle: 5.059644256269406\n"
     ]
    }
   ],
   "source": [
    "##1f##\n",
    "\n",
    "v = np.array([3, 5, 1])  #vector v\n",
    "w = np.array([2,1,-3])   #vector w\n",
    "\n",
    "print('angle = ', v.dot(w)/np.linalg.norm(v)*np.linalg.norm(w))\n",
    "print('angle:', 8/np.sqrt(35)*np.sqrt(14))"
   ]
  },
  {
   "cell_type": "markdown",
   "id": "2ad7a57f",
   "metadata": {},
   "source": [
    "###### g) If $\\beta$ is the angle between $\\textbf{u}$  and   $\\textbf{w}$, find $\\cos{\\beta}$.\n",
    "$\\cos{\\beta} = \\frac{u \\cdotp w}{||u|| \\ ||w||}$<br>\n",
    "${u}\\cdotp{w} = 1(2) + -2(1) + 4(-3) = 2 - 2 -12 = -12$<br>\n",
    "$||\\textbf{u}|| = \\sqrt{{u}\\cdot{u}} = \\sqrt{(1)^2 + (-2)^2 + (4)^2} = \\sqrt{1+4+16} = \\sqrt{21}$<br>\n",
    "$||\\textbf{w}|| = \\sqrt{{w}\\cdot{w}} = \\sqrt{(2)^2 + (1)^2 + (-3)^2} = \\sqrt{4+1+9} = \\sqrt{14}$<br>\n",
    "$\\cos{\\beta} = \\frac{u \\cdotp w}{||u|| \\ ||w||} = \\frac{-12}{\\sqrt{21}\\sqrt{14}}$<br>\n",
    "<b> Pythonic Solution: <b>"
   ]
  },
  {
   "cell_type": "code",
   "execution_count": 18,
   "id": "08b49847",
   "metadata": {},
   "outputs": [
    {
     "name": "stdout",
     "output_type": "stream",
     "text": [
      "angle =  -9.797958971132713\n",
      "angle: -9.797958971132713\n"
     ]
    }
   ],
   "source": [
    "##1g##\n",
    "u = np.array([1, -2, 4]) #vector u\n",
    "w = np.array([2,1,-3])   #vector w\n",
    "\n",
    "print('angle = ', u.dot(w)/np.linalg.norm(u)*np.linalg.norm(w))\n",
    "print('angle:', -12/np.sqrt(21)*np.sqrt(14))"
   ]
  },
  {
   "cell_type": "markdown",
   "id": "c8764e3c",
   "metadata": {},
   "source": [
    "###### h) Find $d(\\textbf{u},\\textbf{v})$.\n",
    "$d(\\textbf{u},\\textbf{v}) = ||\\textbf{u} - \\textbf{v}|| = \\sqrt{(1-3)^2 + (-2 - 5)^2 + (4 - 1)^2} = \\sqrt{(-2)^2 + (-7)^2 + (3)^2} = \\sqrt{4 + 49 + 9} = \\sqrt{62}$<br>\n",
    "<b> Pythonic Solution: <b>"
   ]
  },
  {
   "cell_type": "code",
   "execution_count": 24,
   "id": "d8039532",
   "metadata": {},
   "outputs": [
    {
     "name": "stdout",
     "output_type": "stream",
     "text": [
      "d(u,v):  7.874007874011811\n",
      "distance: 7.874007874011811\n"
     ]
    }
   ],
   "source": [
    "##1f##\n",
    "u = np.array([1, -2, 4]) #vector u\n",
    "v = np.array([3, 5, 1])  #vector v\n",
    "\n",
    "\n",
    "print(\"d(u,v): \",np.linalg.norm(u-v))\n",
    "print(\"distance:\",np.sqrt(62))"
   ]
  },
  {
   "cell_type": "markdown",
   "id": "9bf01f50",
   "metadata": {},
   "source": [
    "###### i) Find $d(\\textbf{w},\\textbf{v})$.\n",
    "$d(\\textbf{w},\\textbf{v}) = ||\\textbf{w} - \\textbf{v}|| = \\sqrt{(2-3)^2 + (1 - 5)^2 + (-3 - 1)^2} = \\sqrt{(-1)^2 + (-4)^2 + (-4)^2} = \\sqrt{1+ 16 + 16} = \\sqrt{33}$<br>\n",
    "<b> Pythonic Solution: <b>"
   ]
  },
  {
   "cell_type": "code",
   "execution_count": 20,
   "id": "f6729ee7",
   "metadata": {},
   "outputs": [
    {
     "name": "stdout",
     "output_type": "stream",
     "text": [
      "d(u,v):  5.744562646538029\n",
      "distance: 5.744562646538029\n"
     ]
    }
   ],
   "source": [
    "##1g##\n",
    "\n",
    "v = np.array([3, 5, 1])  #vector v\n",
    "w = np.array([2,1,-3])   #vector w\n",
    "\n",
    "print(\"d(w,v): \",np.linalg.norm(w-v))\n",
    "print(\"distance:\",np.sqrt(33))"
   ]
  },
  {
   "cell_type": "markdown",
   "id": "d7729907",
   "metadata": {},
   "source": [
    "###### j) Find $d(\\textbf{u},\\textbf{w})$.\n",
    "$d(\\textbf{u},\\textbf{w}) = ||\\textbf{u} - \\textbf{w}|| = \\sqrt{(1-2)^2 + (-2 - 1)^2 + (4 - -3)^2} = \\sqrt{(-1)^2 + (-3)^2 + (7)^2} = \\sqrt{1+ 9 + 49} = \\sqrt{59}$<br>\n",
    "<b> Pythonic Solution: <b>"
   ]
  },
  {
   "cell_type": "code",
   "execution_count": 22,
   "id": "b79a0456",
   "metadata": {},
   "outputs": [
    {
     "name": "stdout",
     "output_type": "stream",
     "text": [
      "d(u,v):  7.681145747868608\n",
      "distance: 7.681145747868608\n"
     ]
    }
   ],
   "source": [
    "##1j##\n",
    "u = np.array([1, -2, 4]) #vector u\n",
    "\n",
    "w = np.array([2,1,-3])   #vector w\n",
    "\n",
    "print(\"d(u,w): \",np.linalg.norm(u-w))\n",
    "print(\"distance:\",np.sqrt(59))"
   ]
  },
  {
   "cell_type": "markdown",
   "id": "8d7f2396",
   "metadata": {},
   "source": [
    "###### k) Find $proj(\\textbf{u},\\textbf{v})$.\n",
    "$proj(\\textbf{u},\\textbf{v}) = \\frac{\\textbf{u} \\cdotp \\textbf{v}}{\\textbf{v} \\cdotp \\textbf{v}} \\textbf{v} = \\frac{\\textbf{u} \\cdotp \\textbf{v}}{||\\textbf{v}||^2} \\textbf{v} $<br>\n",
    "${u}\\cdotp{v} = 1(3) + -2(5) + 4(1) = 3 - 10 + 4 = -3$<br>\n",
    "$||\\textbf{v}|| = \\sqrt{{v}\\cdot{v}} = \\sqrt{(3)^2 + (5)^2 + (1)^2} = \\sqrt{9+25+1} = \\sqrt{35}$<br>\n",
    "$proj(\\textbf{u},\\textbf{v}) = \\frac{-3}{\\sqrt{35}^2}(3,5,1) = (\\frac{-9}{35},\\frac{-15}{35},\\frac{-3}{35}) = (\\frac{-9}{35},\\frac{-3}{7},\\frac{-3}{35}) $\n",
    "\n",
    "<b> Pythonic Solution: <b>"
   ]
  },
  {
   "cell_type": "code",
   "execution_count": 23,
   "id": "b399835f",
   "metadata": {},
   "outputs": [
    {
     "name": "stdout",
     "output_type": "stream",
     "text": [
      "proj(u,v): [-0.25714286 -0.42857143 -0.08571429]\n",
      "proj(u,v):  [-0.2571428571428571, -0.42857142857142855, -0.08571428571428572]\n"
     ]
    }
   ],
   "source": [
    "##1k##\n",
    "u = np.array([1, -2, 4]) #vector u\n",
    "v = np.array([3, 5, 1])  #vector v\n",
    "\n",
    "\n",
    "print('proj(u,v):', u.dot(v)*v/(np.linalg.norm(v)**2))\n",
    "print('proj(u,v): ', [-9/35, -3/7, -3/35])"
   ]
  },
  {
   "cell_type": "markdown",
   "id": "db4a0f7e",
   "metadata": {},
   "source": [
    "###### l) Find $proj(\\textbf{w},\\textbf{v})$.\n",
    "$proj(\\textbf{w},\\textbf{v}) = \\frac{\\textbf{w} \\cdotp \\textbf{v}}{\\textbf{v} \\cdotp \\textbf{v}} \\textbf{v} = \\frac{\\textbf{w} \\cdotp \\textbf{v}}{||\\textbf{v}||^2} \\textbf{v} $<br>\n",
    "${w}\\cdotp{v} = 2(3) + 1(5) + -3(1) =6 + 5 -3 = 8$<br>\n",
    "$||\\textbf{w}|| = \\sqrt{{w}\\cdot{w}} = \\sqrt{(2)^2 + (1)^2 + (-3)^2} = \\sqrt{4+1+9} = \\sqrt{14}$<br>\n",
    "$proj(\\textbf{w},\\textbf{v}) = \\frac{8}{\\sqrt{14}^2}(3,5,1) = (\\frac{24}{35},\\frac{40}{35},\\frac{8}{35}) = (\\frac{24}{35},\\frac{8}{7},\\frac{8}{35})$<br>\n",
    "<b> Pythonic Solution: <b>"
   ]
  },
  {
   "cell_type": "code",
   "execution_count": 25,
   "id": "683aca49",
   "metadata": {},
   "outputs": [
    {
     "name": "stdout",
     "output_type": "stream",
     "text": [
      "proj(w,v): [0.68571429 1.14285714 0.22857143]\n",
      "proj(w,v):  [0.6857142857142857, 1.1428571428571428, 0.22857142857142856]\n"
     ]
    }
   ],
   "source": [
    "##1l##\n",
    "\n",
    "v = np.array([3, 5, 1])  #vector v\n",
    "w = np.array([2,1,-3])   #vector w\n",
    "\n",
    "print('proj(w,v):', w.dot(v)*v/(np.linalg.norm(v)**2))\n",
    "print('proj(w,v): ', [24/35, 8/7, 8/35])"
   ]
  },
  {
   "cell_type": "markdown",
   "id": "700957ff",
   "metadata": {},
   "source": [
    "###### m) Find $proj(\\textbf{u},\\textbf{w})$.\n",
    "$proj(\\textbf{u},\\textbf{w}) = \\frac{\\textbf{u} \\cdotp \\textbf{w}}{\\textbf{w} \\cdotp \\textbf{w}} \\textbf{w} = \\frac{\\textbf{u} \\cdotp \\textbf{w}}{||\\textbf{w}||^2} \\textbf{w} $<br>\n",
    "${u}\\cdotp{w} = 1(2) + -2(1) + 4(-3) = 2 - 2 -12 = -12$<br>\n",
    "$||\\textbf{w}|| = \\sqrt{{w}\\cdot{w}} = \\sqrt{(2)^2 + (1)^2 + (-3)^2} = \\sqrt{4+1+9} = \\sqrt{14}$<br>\n",
    "$proj(\\textbf{u},\\textbf{v}) = \\frac{-12}{\\sqrt{14}^2}(2,1,-3) = (\\frac{-24}{14},\\frac{-12}{14},\\frac{36}{14})= (\\frac{-12}{7},\\frac{-6}{7},\\frac{18}{7})$<br><br>\n",
    "<b> Pythonic Solution: <b>"
   ]
  },
  {
   "cell_type": "code",
   "execution_count": 29,
   "id": "38515117",
   "metadata": {},
   "outputs": [
    {
     "name": "stdout",
     "output_type": "stream",
     "text": [
      "proj(u,w): [-1.71428571 -0.85714286  2.57142857]\n",
      "proj(u,w):  [-1.7142857142857142, -0.8571428571428571, 2.5714285714285716]\n"
     ]
    }
   ],
   "source": [
    "##1m##\n",
    "\n",
    "v = np.array([3, 5, 1])  #vector v\n",
    "w = np.array([2,1,-3])   #vector w\n",
    "\n",
    "print('proj(u,w):', u.dot(w)*w/(np.linalg.norm(w)**2))\n",
    "print('proj(u,w): ', [-12/7, -6/7, 18/7])"
   ]
  },
  {
   "cell_type": "markdown",
   "id": "1b832670",
   "metadata": {},
   "source": [
    "##### 2. Repeat problem 1 with the following column vectors: \n",
    "\\begin{align}\n",
    "    \\textbf{u} &= \\begin{bmatrix}\n",
    "           1 \\\\\n",
    "           3 \\\\\n",
    "           -4\n",
    "         \\end{bmatrix}, \\textbf{v} = \\begin{bmatrix}\n",
    "           2 \\\\\n",
    "           1 \\\\\n",
    "           5\n",
    "         \\end{bmatrix}, \\textbf{w} = \\begin{bmatrix}\n",
    "           3 \\\\\n",
    "           -2 \\\\\n",
    "           6\n",
    "         \\end{bmatrix}\n",
    "  \\end{align}\n",
    "###### a) $3{u} - 2{v}$\n",
    "$3{u} - 2{v} = \\begin{bmatrix}\n",
    "           3\\cdotp1 \\\\\n",
    "           3\\cdotp3 \\\\\n",
    "           3\\cdotp-4\n",
    "         \\end{bmatrix} - \\begin{bmatrix}\n",
    "             2\\cdotp2\\\\\n",
    "             2\\cdotp1\\\\\n",
    "             2\\cdotp5\\\\\n",
    "             \\end{bmatrix} = \\begin{bmatrix}\n",
    "             3\\\\\n",
    "             9\\\\\n",
    "             -12\n",
    "             \\end{bmatrix} - \\begin{bmatrix}\n",
    "             4\\\\\n",
    "             2\\\\\n",
    "             10\n",
    "             \\end{bmatrix} = \\begin{bmatrix}\n",
    "             -1\\\\\n",
    "             7\\\\\n",
    "             -22\n",
    "             \\end{bmatrix}$<br><br>\n",
    "<b> Pythonic Solution: <b>"
   ]
  },
  {
   "cell_type": "code",
   "execution_count": 37,
   "id": "8e8676d4",
   "metadata": {},
   "outputs": [
    {
     "name": "stdout",
     "output_type": "stream",
     "text": [
      "3u =  [  3   9 -12]\n",
      "2v =  [ 4  2 10]\n",
      "3u-2v =  [ -1   7 -22]\n"
     ]
    }
   ],
   "source": [
    "## 2a ##\n",
    "import numpy as np\n",
    "\n",
    "u = np.array([1,3,-4])   #vector u\n",
    "v = np.array([2,1,5])    #vector v\n",
    "\n",
    "print(\"3u = \", 3*u )\n",
    "print(\"2v = \", 2*v)\n",
    "result = 3*u - 2*v\n",
    "print(\"3u-2v = \",result)"
   ]
  },
  {
   "cell_type": "markdown",
   "id": "74db6fd5",
   "metadata": {},
   "source": [
    "###### b) $5{u} + 3{v} - 4{w}$\n",
    "$5{u} + 3{v} - 4{w} = \\begin{bmatrix}\n",
    "           5\\cdotp1 \\\\\n",
    "           5\\cdotp3 \\\\\n",
    "           5\\cdotp-4\n",
    "         \\end{bmatrix} + \\begin{bmatrix}\n",
    "             3\\cdotp2\\\\\n",
    "             3\\cdotp1\\\\\n",
    "             3\\cdotp5\\\\\n",
    "             \\end{bmatrix} - \\begin{bmatrix}\n",
    "                 4\\cdotp3\\\\\n",
    "                 4\\cdotp-2\\\\\n",
    "                 4\\cdotp6\n",
    "                 \\end{bmatrix} = \\begin{bmatrix}\n",
    "             5\\\\\n",
    "             15\\\\\n",
    "             -20\n",
    "             \\end{bmatrix} + \\begin{bmatrix}\n",
    "             6\\\\\n",
    "             3\\\\\n",
    "             15\n",
    "             \\end{bmatrix} - \\begin{bmatrix}\n",
    "             12\\\\\n",
    "             -8\\\\\n",
    "             24\n",
    "             \\end{bmatrix} = \\begin{bmatrix}\n",
    "                 -1\\\\\n",
    "                26\\\\\n",
    "                -29\n",
    "                \\end{bmatrix}\n",
    "                 $<br><br>\n",
    "<b> Pythonic Solution: <b>"
   ]
  },
  {
   "cell_type": "code",
   "execution_count": 38,
   "id": "865992b4",
   "metadata": {},
   "outputs": [
    {
     "name": "stdout",
     "output_type": "stream",
     "text": [
      "5u + 3v - 4w =  [ -1  26 -29]\n"
     ]
    }
   ],
   "source": [
    "## 2b ##\n",
    "import numpy as np\n",
    "\n",
    "u = np.array([1,3,-4])   #vector u\n",
    "v = np.array([2,1,5])    #vector v\n",
    "w = np.array([3,-2,6])   #vector w\n",
    "\n",
    "result = 5*u + 3*v - 4*w\n",
    "print(\"5u + 3v - 4w = \",result)"
   ]
  },
  {
   "cell_type": "markdown",
   "id": "69e12ba5",
   "metadata": {},
   "source": [
    "###### c) ${u}\\cdotp{v}, {v}\\cdotp{w}, {u}\\cdotp{w}$\n",
    "${u}\\cdotp{v} = \\begin{bmatrix}\n",
    "           1\\cdotp2 \\\\\n",
    "           3\\cdotp1 \\\\\n",
    "           -4\\cdotp5\n",
    "         \\end{bmatrix} = \\begin{bmatrix}\n",
    "             2\\\\\n",
    "             3\\\\\n",
    "             -20\n",
    "             \\end{bmatrix} = 2 + 3 - 20 = -15$<br>\n",
    "${v}\\cdotp{w} = \\begin{bmatrix}\n",
    "           2\\cdotp3 \\\\\n",
    "           1\\cdotp-2 \\\\\n",
    "           5\\cdotp6\n",
    "         \\end{bmatrix} = \\begin{bmatrix}\n",
    "             6\\\\\n",
    "             -2\\\\\n",
    "             30\n",
    "             \\end{bmatrix} = 6 -2 + 30 = 34$<br>\n",
    "${u}\\cdotp{w} = \\begin{bmatrix}\n",
    "           1\\cdotp3 \\\\\n",
    "           3\\cdotp-2 \\\\\n",
    "           -4\\cdotp6\n",
    "         \\end{bmatrix} = \\begin{bmatrix}\n",
    "             3\\\\\n",
    "             -6\\\\\n",
    "             -24\n",
    "             \\end{bmatrix} = 3 - 6 - 24 = -27$<br>\n",
    "             \n",
    "         \n",
    "<b> Pythonic Solution: <b>"
   ]
  },
  {
   "cell_type": "code",
   "execution_count": 40,
   "id": "d1e13646",
   "metadata": {},
   "outputs": [
    {
     "name": "stdout",
     "output_type": "stream",
     "text": [
      "u.v:  -15\n",
      "v.w:  34\n",
      "u.w:  -27\n"
     ]
    }
   ],
   "source": [
    "## 2c ##\n",
    "import numpy as np\n",
    "\n",
    "u = np.array([1,3,-4])   #vector u\n",
    "v = np.array([2,1,5])    #vector v\n",
    "w = np.array([3,-2,6])   #vector w\n",
    "\n",
    "print(\"u.v: \", u.dot(v))\n",
    "print(\"v.w: \", v.dot(w))\n",
    "print(\"u.w: \", u.dot(w))"
   ]
  },
  {
   "cell_type": "markdown",
   "id": "892a3306",
   "metadata": {},
   "source": [
    "###### d) $||\\textbf{u}||, ||\\textbf{v}||, ||\\textbf{w}||$\n",
    "$||\\textbf{u}|| = \\sqrt{{u}\\cdot{u}} = \\sqrt{(1)^2 + (3)^2 + (-4)^2} = \\sqrt{1+9+16} = \\sqrt{26}$<br>\n",
    "$||\\textbf{v}|| = \\sqrt{{v}\\cdot{v}} = \\sqrt{(2)^2 + (1)^2 + (5)^2} = \\sqrt{4+1+25} = \\sqrt{30}$<br>\n",
    "$||\\textbf{w}|| = \\sqrt{{w}\\cdot{w}} = \\sqrt{(3)^2 + (-2)^2 + (6)^2} = \\sqrt{9+4+36} = \\sqrt{49}= 7$<br><br>\n",
    "<b> Pythonic Solution: <b>"
   ]
  },
  {
   "cell_type": "code",
   "execution_count": 47,
   "id": "5b41a409",
   "metadata": {},
   "outputs": [
    {
     "name": "stdout",
     "output_type": "stream",
     "text": [
      "||u||:  5.0990195135927845\n",
      "sqrt(26):  5.0990195135927845\n",
      "||v||:  5.477225575051661\n",
      "sqrt(30):  5.477225575051661\n",
      "||w||:  7.0\n",
      "sqrt(49):  7.0\n"
     ]
    }
   ],
   "source": [
    "## 2d ##\n",
    "import numpy as np\n",
    "\n",
    "u = np.array([1,3,-4])   #vector u\n",
    "v = np.array([2,1,5])    #vector v\n",
    "w = np.array([3,-2,6])   #vector w\n",
    "\n",
    "print(\"||u||: \", np.linalg.norm(u))\n",
    "print(\"sqrt(26): \", np.sqrt(26))\n",
    "print(\"||v||: \", np.linalg.norm(v))\n",
    "print(\"sqrt(30): \", np.sqrt(30))\n",
    "print(\"||w||: \", np.linalg.norm(w))\n",
    "print(\"sqrt(49): \", np.sqrt(49))"
   ]
  },
  {
   "cell_type": "markdown",
   "id": "02768da0",
   "metadata": {},
   "source": [
    "###### e) If $\\theta$ is the angle between $\\textbf{u}$  and   $\\textbf{v}$, find $\\cos{\\theta}$.\n",
    "$\\cos{\\theta} = \\frac{u \\cdotp v}{||u|| \\ ||v||}$<br>\n",
    "${u}\\cdotp{v} = \\begin{bmatrix}\n",
    "           1\\cdotp2 \\\\\n",
    "           3\\cdotp1 \\\\\n",
    "           -4\\cdotp5\n",
    "         \\end{bmatrix} = \\begin{bmatrix}\n",
    "             2\\\\\n",
    "             3\\\\\n",
    "             -20\n",
    "             \\end{bmatrix} = 2 + 3 - 20 = -15$<br>\n",
    "$||\\textbf{u}|| = \\sqrt{{u}\\cdot{u}} = \\sqrt{(1)^2 + (3)^2 + (-4)^2} = \\sqrt{1+9+16} = \\sqrt{26}$<br>\n",
    "$||\\textbf{v}|| = \\sqrt{{v}\\cdot{v}} = \\sqrt{(2)^2 + (1)^2 + (5)^2} = \\sqrt{4+1+25} = \\sqrt{30}$<br>\n",
    "$\\cos{\\theta} = \\frac{u \\cdotp v}{||u|| \\ ||v||} = \\frac{-15}{\\sqrt{26}\\sqrt{30}}$<br><br>\n",
    "<b> Pythonic Solution: <b>"
   ]
  },
  {
   "cell_type": "code",
   "execution_count": 49,
   "id": "b70f423b",
   "metadata": {},
   "outputs": [
    {
     "name": "stdout",
     "output_type": "stream",
     "text": [
      "angle =  -16.11258466588724\n",
      "angle: -16.11258466588724\n"
     ]
    }
   ],
   "source": [
    "##2e##\n",
    "u = np.array([1,3,-4])   #vector u\n",
    "v = np.array([2,1,5])    #vector v\n",
    "\n",
    "\n",
    "print('angle = ', u.dot(v)/np.linalg.norm(u)*np.linalg.norm(v))\n",
    "print('angle:', -15/np.sqrt(26)*np.sqrt(30))"
   ]
  },
  {
   "cell_type": "markdown",
   "id": "e1608c3f",
   "metadata": {},
   "source": [
    "###### f) If $\\alpha$ is the angle between $\\textbf{v}$  and   $\\textbf{w}$, find $\\cos{\\alpha}$.\n",
    "$\\cos{\\alpha} = \\frac{v \\cdotp w}{||v|| \\ ||w||}$<br>\n",
    "${v}\\cdotp{w} = \\begin{bmatrix}\n",
    "           2\\cdotp3 \\\\\n",
    "           1\\cdotp-2 \\\\\n",
    "           5\\cdotp6\n",
    "         \\end{bmatrix} = \\begin{bmatrix}\n",
    "             6\\\\\n",
    "             -2\\\\\n",
    "             30\n",
    "             \\end{bmatrix} = 6 -2 + 30 = 34$<br>\n",
    "$||\\textbf{v}|| = \\sqrt{{v}\\cdot{v}} = \\sqrt{(2)^2 + (1)^2 + (5)^2} = \\sqrt{4+1+25} = \\sqrt{30}$<br>\n",
    "$||\\textbf{w}|| = \\sqrt{{w}\\cdot{w}} = \\sqrt{(3)^2 + (-2)^2 + (6)^2} = \\sqrt{9+4+36} = \\sqrt{49}= 7$<br><br>\n",
    "$\\cos{\\alpha} = \\frac{v \\cdotp w}{||v|| \\ ||w||} = \\frac{34}{\\sqrt{30}\\space{7}}$<br>\n",
    "<b> Pythonic Solution: <b>"
   ]
  },
  {
   "cell_type": "code",
   "execution_count": 52,
   "id": "6101b98e",
   "metadata": {},
   "outputs": [
    {
     "name": "stdout",
     "output_type": "stream",
     "text": [
      "angle =  43.45265622874318\n",
      "angle: 43.45265622874318\n"
     ]
    }
   ],
   "source": [
    "## 2f ##\n",
    "import numpy as np\n",
    "\n",
    "\n",
    "v = np.array([2,1,5])    #vector v\n",
    "w = np.array([3,-2,6])   #vector w\n",
    "\n",
    "print('angle = ', v.dot(w)/np.linalg.norm(v)*np.linalg.norm(w))\n",
    "print('angle:', 34/np.sqrt(30)*np.sqrt(49))"
   ]
  },
  {
   "cell_type": "markdown",
   "id": "f1c28b67",
   "metadata": {},
   "source": [
    "###### g) If $\\beta$ is the angle between $\\textbf{u}$  and   $\\textbf{w}$, find $\\cos{\\beta}$.\n",
    "$\\cos{\\beta} = \\frac{u \\cdotp w}{||u|| \\ ||w||}$<br>\n",
    "${u}\\cdotp{w} = \\begin{bmatrix}\n",
    "           1\\cdotp3 \\\\\n",
    "           3\\cdotp-2 \\\\\n",
    "           -4\\cdotp6\n",
    "         \\end{bmatrix} = \\begin{bmatrix}\n",
    "             3\\\\\n",
    "             -6\\\\\n",
    "             -24\n",
    "             \\end{bmatrix} = 3 - 6 - 24 = -27$<br>\n",
    "$||\\textbf{u}|| = \\sqrt{{u}\\cdot{u}} = \\sqrt{(1)^2 + (3)^2 + (-4)^2} = \\sqrt{1+9+16} = \\sqrt{26}$<br>\n",
    "$||\\textbf{w}|| = \\sqrt{{w}\\cdot{w}} = \\sqrt{(3)^2 + (-2)^2 + (6)^2} = \\sqrt{9+4+36} = \\sqrt{49}= 7$<br><br>\n",
    "$\\cos{\\beta} = \\frac{u \\cdotp w}{||u|| \\ ||w||} = \\frac{-27}{\\sqrt{26}\\space{7}}$<br>\n",
    "<b> Pythonic Solution: <b>"
   ]
  },
  {
   "cell_type": "code",
   "execution_count": 53,
   "id": "88259ba6",
   "metadata": {},
   "outputs": [
    {
     "name": "stdout",
     "output_type": "stream",
     "text": [
      "angle =  -37.06594954111679\n",
      "angle: -37.06594954111679\n"
     ]
    }
   ],
   "source": [
    "## 2f ##\n",
    "import numpy as np\n",
    "\n",
    "u = np.array([1,3,-4])   #vector u\n",
    "w = np.array([3,-2,6])   #vector w\n",
    "\n",
    "print('angle = ', u.dot(w)/np.linalg.norm(u)*np.linalg.norm(w))\n",
    "print('angle:', -27/np.sqrt(26)*np.sqrt(49))"
   ]
  },
  {
   "cell_type": "markdown",
   "id": "3e336944",
   "metadata": {},
   "source": [
    "###### h) Find $d(\\textbf{u},\\textbf{v})$.\n",
    "$d(\\textbf{u},\\textbf{v}) = ||\\textbf{u} - \\textbf{v}|| = \\sqrt{(1-2)^2 + (3 - 1)^2 + (-4 - 5)^2} = \\sqrt{(-1)^2 + (2)^2 + (-9)^2} = \\sqrt{1 + 4 + 81} = \\sqrt{86}$<br>\n",
    "<b> Pythonic Solution: <b>"
   ]
  },
  {
   "cell_type": "code",
   "execution_count": 56,
   "id": "83cfefb9",
   "metadata": {},
   "outputs": [
    {
     "name": "stdout",
     "output_type": "stream",
     "text": [
      "d(u,v):  9.273618495495704\n",
      "distance: 9.273618495495704\n"
     ]
    }
   ],
   "source": [
    "## 2h ##\n",
    "import numpy as np\n",
    "\n",
    "u = np.array([1,3,-4])   #vector u\n",
    "v = np.array([2,1,5])    #vector v\n",
    "\n",
    "\n",
    "print(\"d(u,v): \",np.linalg.norm(u-v))\n",
    "print(\"distance:\",np.sqrt(86))"
   ]
  },
  {
   "cell_type": "markdown",
   "id": "ae163f3d",
   "metadata": {},
   "source": [
    "###### i) Find $d(\\textbf{w},\\textbf{v})$.\n",
    "$d(\\textbf{w},\\textbf{v}) = ||\\textbf{w} - \\textbf{v}|| = \\sqrt{(3-2)^2 + (-2 - 1)^2 + (6 - 5)^2} = \\sqrt{(1)^2 + (-3)^2 + (1)^2} = \\sqrt{1 + 9 + 1} = \\sqrt{11}$<br>\n",
    "<b> Pythonic Solution: <b>"
   ]
  },
  {
   "cell_type": "code",
   "execution_count": 55,
   "id": "bed6b38e",
   "metadata": {},
   "outputs": [
    {
     "name": "stdout",
     "output_type": "stream",
     "text": [
      "d(w,v):  3.3166247903554\n",
      "distance: 3.3166247903554\n"
     ]
    }
   ],
   "source": [
    "## 2i ##\n",
    "import numpy as np\n",
    "\n",
    "\n",
    "v = np.array([2,1,5])    #vector v\n",
    "w = np.array([3,-2,6])   #vector w\n",
    "\n",
    "print(\"d(w,v): \",np.linalg.norm(w-v))\n",
    "print(\"distance:\",np.sqrt(11))"
   ]
  },
  {
   "cell_type": "markdown",
   "id": "2c1a25e2",
   "metadata": {},
   "source": [
    "###### j) Find $d(\\textbf{u},\\textbf{w})$.\n",
    "$d(\\textbf{u},\\textbf{w}) = ||\\textbf{u} - \\textbf{w}|| = \\sqrt{(1-3)^2 + (3 - -2)^2 + (-4 - 6)^2} = \\sqrt{(-2)^2 + (5)^2 + (-10)^2} = \\sqrt{4 + 25 + 100} = \\sqrt{129}$<br>\n",
    "<b> Pythonic Solution: <b>"
   ]
  },
  {
   "cell_type": "code",
   "execution_count": 58,
   "id": "a55f56f8",
   "metadata": {},
   "outputs": [
    {
     "name": "stdout",
     "output_type": "stream",
     "text": [
      "d(u,w):  11.357816691600547\n",
      "distance: 11.357816691600547\n"
     ]
    }
   ],
   "source": [
    "## 2j ##\n",
    "import numpy as np\n",
    "\n",
    "u = np.array([1,3,-4])   #vector u\n",
    "w = np.array([3,-2,6])   #vector w\n",
    "\n",
    "print(\"d(u,w): \",np.linalg.norm(u-w))\n",
    "print(\"distance:\",np.sqrt(129))"
   ]
  },
  {
   "cell_type": "markdown",
   "id": "0dec8887",
   "metadata": {},
   "source": [
    "###### k) Find $proj(\\textbf{u},\\textbf{v})$.\n",
    "$proj(\\textbf{u},\\textbf{v}) = \\frac{\\textbf{u} \\cdotp \\textbf{v}}{\\textbf{v} \\cdotp \\textbf{v}} \\textbf{v} = \\frac{\\textbf{u} \\cdotp \\textbf{v}}{||\\textbf{v}||^2} \\textbf{v} $<br>\n",
    "${u}\\cdotp{v} = \\begin{bmatrix}\n",
    "           1\\cdotp2 \\\\\n",
    "           3\\cdotp1 \\\\\n",
    "           -4\\cdotp5\n",
    "         \\end{bmatrix} = \\begin{bmatrix}\n",
    "             2\\\\\n",
    "             3\\\\\n",
    "             -20\n",
    "             \\end{bmatrix} = 2 + 3 - 20 = -15$<br>\n",
    "$||\\textbf{v}|| = \\sqrt{{v}\\cdot{v}} = \\sqrt{(2)^2 + (1)^2 + (5)^2} = \\sqrt{4+1+25} = \\sqrt{30}$<br>\n",
    "$proj(\\textbf{u},\\textbf{v}) = \\frac{\\textbf{u} \\cdotp \\textbf{v}}{\\textbf{v} \\cdotp \\textbf{v}} \\textbf{v} = \\frac{\\textbf{u} \\cdotp \\textbf{v}}{||\\textbf{v}||^2} \\textbf{v} = \\frac{-15}{\\sqrt{30}^2}\\begin{bmatrix}\n",
    "           2 \\\\\n",
    "           1 \\\\\n",
    "           5\n",
    "         \\end{bmatrix} = \\frac{-15}{30}\\begin{bmatrix}\n",
    "           2 \\\\\n",
    "           1 \\\\\n",
    "           5\n",
    "         \\end{bmatrix} = \\frac{-1}{2}\\begin{bmatrix}\n",
    "           2 \\\\\n",
    "           1 \\\\\n",
    "           5\n",
    "         \\end{bmatrix} = \\begin{bmatrix}\n",
    "             \\frac{-2}{2}\\\\\n",
    "             \\frac{-1}{2}\\\\\n",
    "             \\frac{-5}{2}\n",
    "             \\end{bmatrix} = \\begin{bmatrix}\n",
    "             -1\\\\\n",
    "             \\frac{-1}{2}\\\\\n",
    "             \\frac{-5}{2}\n",
    "             \\end{bmatrix}$<br>\n",
    "<b> Pythonic Solution: <b>"
   ]
  },
  {
   "cell_type": "code",
   "execution_count": 59,
   "id": "147d59dc",
   "metadata": {},
   "outputs": [
    {
     "name": "stdout",
     "output_type": "stream",
     "text": [
      "proj(u,v): [-1.  -0.5 -2.5]\n",
      "proj(u,v):  [-1, -0.5, -2.5]\n"
     ]
    }
   ],
   "source": [
    "## 2k ##\n",
    "import numpy as np\n",
    "\n",
    "\n",
    "v = np.array([2,1,5])    #vector v\n",
    "w = np.array([3,-2,6])   #vector w\n",
    "\n",
    "print('proj(u,v):', u.dot(v)*v/(np.linalg.norm(v)**2))\n",
    "print('proj(u,v): ', [-1, -1/2, -5/2])"
   ]
  },
  {
   "cell_type": "markdown",
   "id": "e66a1a2b",
   "metadata": {},
   "source": [
    "###### l) Find $proj(\\textbf{w},\\textbf{v})$.\n",
    "$proj(\\textbf{w},\\textbf{v}) = \\frac{\\textbf{w} \\cdotp \\textbf{v}}{\\textbf{v} \\cdotp \\textbf{v}} \\textbf{v} = \\frac{\\textbf{w} \\cdotp \\textbf{v}}{||\\textbf{v}||^2} \\textbf{v} $<br>\n",
    "${v}\\cdotp{w} = \\begin{bmatrix}\n",
    "           2\\cdotp3 \\\\\n",
    "           1\\cdotp-2 \\\\\n",
    "           5\\cdotp6\n",
    "         \\end{bmatrix} = \\begin{bmatrix}\n",
    "             6\\\\\n",
    "             -2\\\\\n",
    "             30\n",
    "             \\end{bmatrix} = 6 -2 + 30 = 34$<br>\n",
    "$||\\textbf{v}|| = \\sqrt{{v}\\cdot{v}} = \\sqrt{(2)^2 + (1)^2 + (5)^2} = \\sqrt{4+1+25} = \\sqrt{30}$<br>\n",
    "$proj(\\textbf{w},\\textbf{v}) = \\frac{\\textbf{w} \\cdotp \\textbf{v}}{\\textbf{v} \\cdotp \\textbf{v}} \\textbf{v} = \\frac{\\textbf{w} \\cdotp \\textbf{v}}{||\\textbf{v}||^2} \\textbf{v} = \\frac{34}{\\sqrt{30}^2}\\begin{bmatrix}\n",
    "           2 \\\\\n",
    "           1 \\\\\n",
    "           5\n",
    "         \\end{bmatrix} = \\frac{34}{30}\\begin{bmatrix}\n",
    "           2 \\\\\n",
    "           1 \\\\\n",
    "           5\n",
    "         \\end{bmatrix} = \\frac{17}{15}\\begin{bmatrix}\n",
    "           2 \\\\\n",
    "           1 \\\\\n",
    "           5\n",
    "         \\end{bmatrix} = \\begin{bmatrix}\n",
    "             \\frac{34}{15}\\\\\n",
    "             \\frac{17}{15}\\\\\n",
    "             \\frac{85}{15}\n",
    "             \\end{bmatrix} = \\begin{bmatrix}\n",
    "             \\frac{34}{15}\\\\\n",
    "             \\frac{17}{15}\\\\\n",
    "             \\frac{17}{3}\n",
    "             \\end{bmatrix}$<br>\n",
    "<b> Pythonic Solution: <b>"
   ]
  },
  {
   "cell_type": "code",
   "execution_count": 61,
   "id": "93c933e5",
   "metadata": {},
   "outputs": [
    {
     "name": "stdout",
     "output_type": "stream",
     "text": [
      "proj(w,v): [2.26666667 1.13333333 5.66666667]\n",
      "proj(w,v):  [2.2666666666666666, 1.1333333333333333, 5.666666666666667]\n"
     ]
    }
   ],
   "source": [
    "## 2l ##\n",
    "import numpy as np\n",
    "\n",
    "v = np.array([2,1,5])    #vector v\n",
    "w = np.array([3,-2,6])   #vector w\n",
    "\n",
    "print('proj(w,v):', w.dot(v)*v/(np.linalg.norm(v)**2))\n",
    "print('proj(w,v): ', [34/15, 17/15, 17/3])"
   ]
  },
  {
   "cell_type": "markdown",
   "id": "a66512b8",
   "metadata": {},
   "source": [
    "###### m) Find $proj(\\textbf{u},\\textbf{w})$.\n",
    "$proj(\\textbf{u},\\textbf{w}) = \\frac{\\textbf{u} \\cdotp \\textbf{w}}{\\textbf{w} \\cdotp \\textbf{w}} \\textbf{w} = \\frac{\\textbf{u} \\cdotp \\textbf{w}}{||\\textbf{w}||^2} \\textbf{w} $<br>\n",
    "${u}\\cdotp{w} = \\begin{bmatrix}\n",
    "           1\\cdotp3 \\\\\n",
    "           3\\cdotp-2 \\\\\n",
    "           -4\\cdotp6\n",
    "         \\end{bmatrix} = \\begin{bmatrix}\n",
    "             3\\\\\n",
    "             -6\\\\\n",
    "             -24\n",
    "             \\end{bmatrix} = 3 - 6 - 24 = -27$<br>\n",
    "$||\\textbf{w}|| = \\sqrt{{w}\\cdot{w}} = \\sqrt{(3)^2 + (-2)^2 + (6)^2} = \\sqrt{9+4+36} = \\sqrt{49}= 7$<br>\n",
    "$proj(\\textbf{u},\\textbf{w}) = \\frac{\\textbf{u} \\cdotp \\textbf{w}}{\\textbf{w} \\cdotp \\textbf{w}} \\textbf{w} = \\frac{\\textbf{u} \\cdotp \\textbf{w}}{||\\textbf{w}||^2} \\textbf{w} = \\frac{-27}{7^2}\\begin{bmatrix}\n",
    "           3 \\\\\n",
    "           -2 \\\\\n",
    "           6\n",
    "         \\end{bmatrix} = \\frac{-27}{49}\\begin{bmatrix}\n",
    "           3 \\\\\n",
    "           -2 \\\\\n",
    "           6\n",
    "         \\end{bmatrix} = \\begin{bmatrix}\n",
    "             \\frac{-81}{49}\\\\\n",
    "             \\frac{54}{49}\\\\\n",
    "             \\frac{-162}{49}\n",
    "             \\end{bmatrix} $<br>\n",
    "<b> Pythonic Solution: <b>"
   ]
  },
  {
   "cell_type": "code",
   "execution_count": 62,
   "id": "5f03fc7d",
   "metadata": {},
   "outputs": [
    {
     "name": "stdout",
     "output_type": "stream",
     "text": [
      "proj(u,w): [-1.65306122  1.10204082 -3.30612245]\n",
      "proj(u,w):  [-1.653061224489796, 1.1020408163265305, -3.306122448979592]\n"
     ]
    }
   ],
   "source": [
    "## 2m ##\n",
    "import numpy as np\n",
    "\n",
    "v = np.array([2,1,5])    #vector v\n",
    "w = np.array([3,-2,6])   #vector w\n",
    "\n",
    "print('proj(u,w):', u.dot(w)*w/(np.linalg.norm(w)**2))\n",
    "print('proj(u,w): ', [-81/49, 54/49, -162/49])"
   ]
  },
  {
   "cell_type": "markdown",
   "id": "f3e40b6b",
   "metadata": {},
   "source": [
    "##### 3. Let  $\\textbf{u} = (2, -5, 4, 6, -3),\\space \\textbf{v} = (5, -2, 1, -7, -4) \\space and\\space \\textbf{w} = (2, 1, -3)$ find the ff:\n",
    "###### a) $4{u} - 3{v}$<br>\n",
    "$4{u} - 3{v} = 4(2, -5, 4, 6, -3) - 3(5, -2, 1, -7, -4) = (8, -20, 16, 24, -12) - (15, -6, 3, -21, -12) = (-7, -14, 13, 45, 0)$\n",
    "<b> Pythonic Solution: <b>"
   ]
  },
  {
   "cell_type": "code",
   "execution_count": 16,
   "id": "3ed8553d",
   "metadata": {},
   "outputs": [
    {
     "name": "stdout",
     "output_type": "stream",
     "text": [
      "4u-3v =  [ -7 -14  13  45   0]\n"
     ]
    }
   ],
   "source": [
    "## 3a ##\n",
    "import numpy as np\n",
    "\n",
    "u = np.array([2,-5,4,6,-3])   \n",
    "v = np.array([5, -2, 1, -7, -4])  \n",
    "\n",
    "result = 4*u - 3*v\n",
    "print(\"4u-3v = \",result)"
   ]
  },
  {
   "cell_type": "markdown",
   "id": "7c3c5c0f",
   "metadata": {},
   "source": [
    "###### b) $5{u} + 2{v} - 2{w}$\n",
    "$5u + 2v - 2w = 5(2,-5,4,6,-3) + 2(5,-2,1,-7,-4) - 2(2,1,-3) = (10, -25, 20, 30, -15) + (10, -4, 2, -14, -8) - (4, 2, -6) = (20, -29, 22, -16, -23) - (4, 2, -6) = (16, -31, 28, 13, -23) $<br>\n",
    "<b> Pythonic Solution: <b>"
   ]
  },
  {
   "cell_type": "code",
   "execution_count": 3,
   "id": "3677a7ad",
   "metadata": {},
   "outputs": [
    {
     "name": "stdout",
     "output_type": "stream",
     "text": [
      "5u + 2v - 2w = [ 16 -31  28  16 -23]\n"
     ]
    }
   ],
   "source": [
    "## 3b ##\n",
    "import numpy as np\n",
    "\n",
    "u = np.array([2, -5, 4, 6, -3])\n",
    "v = np.array([5, -2, 1, -7, -4])\n",
    "w = np.array([2, 1, -3, 0, 0])  # Make w the same length as u and v\n",
    "\n",
    "result = 5 * u + 2 * v - 2 * w\n",
    "print(\"5u + 2v - 2w =\", result)\n"
   ]
  },
  {
   "cell_type": "markdown",
   "id": "e1f0b4a2",
   "metadata": {},
   "source": [
    "###### c) ${u}\\cdotp{v}, {v}\\cdotp{w}, {u}\\cdotp{w}$\n",
    "${u}\\cdotp{v} = 2(5) + -5(-2) + 4(1) + 6(-7) + -3(-4) = 10 + 10 + 4 - 42 + 12 = -6$<br>\n",
    "${v}\\cdotp{w} = 5(2) + -2(1) + 1(-3) = 10 - 2 - 3 = 5 $<br>\n",
    "${u}\\cdotp{w} = 2(2) + -5(1) + 4(-3) = 4 - 5 - 12 = -13$<br>\n",
    "<b> Pythonic Solution: <b>"
   ]
  },
  {
   "cell_type": "code",
   "execution_count": 4,
   "id": "6dd017ee",
   "metadata": {},
   "outputs": [
    {
     "name": "stdout",
     "output_type": "stream",
     "text": [
      "u.v =  -6\n",
      "v.w =  5\n",
      "u.w =  -13\n"
     ]
    }
   ],
   "source": [
    "## 1c ##\n",
    "import numpy as np\n",
    "\n",
    "u = np.array([2,-5,4,6,-3]) #vector u\n",
    "v = np.array([5, -2, 1, -7, -4])  #vector v\n",
    "w = np.array([2,1,-3,0, 0])   #vector w\n",
    "\n",
    "print(\"u.v = \", u.dot(v))\n",
    "print(\"v.w = \", v.dot(w))\n",
    "print(\"u.w = \", u.dot(w))"
   ]
  },
  {
   "cell_type": "markdown",
   "id": "f2b0582a",
   "metadata": {},
   "source": [
    "###### d) $||\\textbf{u}||, ||\\textbf{v}||, ||\\textbf{w}||$\n",
    "$||\\textbf{u}|| = \\sqrt{{u}\\cdot{u}} = \\sqrt{(2)^2 + (-5)^2 + (4)^2 + (6)^2 + (-3)^2} = \\sqrt{4 + 25 + 16 + 36 + 9} = \\sqrt{90}$<br>\n",
    "$||\\textbf{v}|| = \\sqrt{{v}\\cdot{v}} = \\sqrt{(5)^2 + (-2)^2 + (1)^2 + (-7)^2 + (-4)^2} = \\sqrt{25 + 4 1 + 49 + 16} = \\sqrt{95}$<br>\n",
    "$||\\textbf{w}|| = \\sqrt{{w}\\cdot{w}} = \\sqrt{(2)^2 + (1)^2 + (-3)^2} = \\sqrt{4+1+9} = \\sqrt{14}$<br>\n",
    "<b> Pythonic Solution: <b>"
   ]
  },
  {
   "cell_type": "code",
   "execution_count": 6,
   "id": "4ea4a82b",
   "metadata": {},
   "outputs": [
    {
     "name": "stdout",
     "output_type": "stream",
     "text": [
      "||u||:  9.486832980505138\n",
      "sqrt(21):  9.486832980505138\n",
      "||v||:  9.746794344808963\n",
      "sqrt(35):  9.746794344808963\n",
      "||w||:  3.7416573867739413\n",
      "sqrt(14):  3.7416573867739413\n"
     ]
    }
   ],
   "source": [
    "## 3d ##\n",
    "import numpy as np\n",
    "\n",
    "u = np.array([2,-5,4,6,-3]) #vector u\n",
    "v = np.array([5, -2, 1, -7, -4])  #vector v\n",
    "w = np.array([2,1,-3,0, 0])   #vector w\n",
    "\n",
    "print('||u||: ', np.sqrt(u.dot(u)))\n",
    "print('sqrt(21): ', np.sqrt(90))\n",
    "\n",
    "print('||v||: ', np.sqrt(v.dot(v)))\n",
    "print('sqrt(35): ', np.sqrt(95))\n",
    "\n",
    "print('||w||: ', np.sqrt(w.dot(w)))\n",
    "print('sqrt(14): ', np.sqrt(14))"
   ]
  },
  {
   "cell_type": "markdown",
   "id": "cd9582a8",
   "metadata": {},
   "source": [
    "###### e) If $\\theta$ is the angle between $\\textbf{u}$  and   $\\textbf{v}$, find $\\cos{\\theta}$.\n",
    "$\\cos{\\theta} = \\frac{u \\cdotp v}{||u|| \\ ||v||}$<br>\n",
    "${u}\\cdotp{v} = 2(5) + -5(-2) + 4(1) + 6(-7) + -3(-4) = 10 + 10 + 4 - 42 + 12 = -6$<br>\n",
    "$||\\textbf{u}|| = \\sqrt{{u}\\cdot{u}} = \\sqrt{(2)^2 + (-5)^2 + (4)^2 + (6)^2 + (-3)^2} = \\sqrt{4 + 25 + 16 + 36 + 9} = \\sqrt{90}$<br>\n",
    "$||\\textbf{v}|| = \\sqrt{{v}\\cdot{v}} = \\sqrt{(5)^2 + (-2)^2 + (1)^2 + (-7)^2 + (-4)^2} = \\sqrt{25 + 4 1 + 49 + 16} = \\sqrt{95}$<br>\n",
    "$\\cos{\\theta} = \\frac{u \\cdotp v}{||u|| \\ ||v||} = \\frac{-6}{\\sqrt{90}\\sqrt{95}}$<br>\n",
    "<b> Pythonic Solution: <b>"
   ]
  },
  {
   "cell_type": "code",
   "execution_count": 8,
   "id": "4908fa70",
   "metadata": {},
   "outputs": [
    {
     "name": "stdout",
     "output_type": "stream",
     "text": [
      "angle =  -6.164414002968976\n",
      "angle: -6.164414002968976\n"
     ]
    }
   ],
   "source": [
    "##3e##\n",
    "u = np.array([2,-5,4,6,-3]) #vector u\n",
    "v = np.array([5, -2, 1, -7, -4])  #vector v\n",
    "\n",
    "\n",
    "print('angle = ', u.dot(v)/np.linalg.norm(u)*np.linalg.norm(v))\n",
    "print('angle:', -6/np.sqrt(90)*np.sqrt(95))"
   ]
  },
  {
   "cell_type": "markdown",
   "id": "d9913be9",
   "metadata": {},
   "source": [
    "###### f) If $\\alpha$ is the angle between $\\textbf{v}$  and   $\\textbf{w}$, find $\\cos{\\alpha}$.\n",
    "$\\cos{\\alpha} = \\frac{v \\cdotp w}{||v|| \\ ||w||}$<br>\n",
    "${v}\\cdotp{w} = 5(2) + -2(1) + 1(-3) = 10 - 2 - 3 = 5 $<br>\n",
    "$||\\textbf{v}|| = \\sqrt{{v}\\cdot{v}} = \\sqrt{(5)^2 + (-2)^2 + (1)^2 + (-7)^2 + (-4)^2} = \\sqrt{25 + 4 1 + 49 + 16} = \\sqrt{95}$<br>\n",
    "$||\\textbf{w}|| = \\sqrt{{w}\\cdot{w}} = \\sqrt{(2)^2 + (1)^2 + (-3)^2} = \\sqrt{4+1+9} = \\sqrt{14}$<br>\n",
    "$\\cos{\\alpha} = \\frac{u \\cdotp v}{||u|| \\ ||v||} = \\frac{5}{\\sqrt{95}\\sqrt{14}}$<br>\n",
    "<b> Pythonic Solution: <b>"
   ]
  },
  {
   "cell_type": "code",
   "execution_count": 9,
   "id": "77ec392a",
   "metadata": {},
   "outputs": [
    {
     "name": "stdout",
     "output_type": "stream",
     "text": [
      "angle =  1.9194297398747864\n",
      "angle: 1.9194297398747864\n"
     ]
    }
   ],
   "source": [
    "##3f##\n",
    "v = np.array([5, -2, 1, -7, -4])  #vector v\n",
    "w = np.array([2,1,-3,0, 0])   #vector w\n",
    "\n",
    "\n",
    "print('angle = ', w.dot(v)/np.linalg.norm(v)*np.linalg.norm(w))\n",
    "print('angle:', 5/np.sqrt(95)*np.sqrt(14))"
   ]
  },
  {
   "cell_type": "markdown",
   "id": "3e2f4976",
   "metadata": {},
   "source": [
    "###### g) If $\\beta$ is the angle between $\\textbf{u}$  and   $\\textbf{w}$, find $\\cos{\\beta}$.\n",
    "$\\cos{\\beta} = \\frac{u \\cdotp w}{||u|| \\ ||w||}$<br>\n",
    "${u}\\cdotp{w} = 2(2) + -5(1) + 4(-3) = 4 - 5 - 12 = -13$<br>\n",
    "$||\\textbf{u}|| = \\sqrt{{u}\\cdot{u}} = \\sqrt{(2)^2 + (-5)^2 + (4)^2 + (6)^2 + (-3)^2} = \\sqrt{4 + 25 + 16 + 36 + 9} = \\sqrt{90}$<br>\n",
    "$||\\textbf{w}|| = \\sqrt{{w}\\cdot{w}} = \\sqrt{(2)^2 + (1)^2 + (-3)^2} = \\sqrt{4+1+9} = \\sqrt{14}$<br>\n",
    "$\\cos{\\beta} = \\frac{u \\cdotp v}{||u|| \\ ||v||} = \\frac{-13}{\\sqrt{90}\\sqrt{14}}$<br>\n",
    "<b> Pythonic Solution: <b>"
   ]
  },
  {
   "cell_type": "code",
   "execution_count": 14,
   "id": "b4aece7c",
   "metadata": {},
   "outputs": [
    {
     "name": "stdout",
     "output_type": "stream",
     "text": [
      "angle =  -5.127269145353\n",
      "angle: -5.127269145353\n"
     ]
    }
   ],
   "source": [
    "##3g##\n",
    "u = np.array([2,-5,4,6,-3]) #vector u\n",
    "w = np.array([2,1,-3,0, 0])   #vector w\n",
    "\n",
    "\n",
    "print('angle = ', u.dot(w)/np.linalg.norm(u)*np.linalg.norm(w))\n",
    "print('angle:', -13/np.sqrt(90)*np.sqrt(14))"
   ]
  },
  {
   "cell_type": "markdown",
   "id": "74aff730",
   "metadata": {},
   "source": [
    "###### h) Find $d(\\textbf{u},\\textbf{v})$.\n",
    "$d(\\textbf{u},\\textbf{v}) = ||\\textbf{u} - \\textbf{v}|| = \\sqrt{((2-5)^2 + ((-5)-(-2))^2 + (4 - 1)^2 + (6 - (-7))^2 + ((-3)-(-4))^2} = \\sqrt{(-3)^2 + (-3)^2 + (3)^2 + (-13)^2 + (-1)^2} = \\sqrt{9 + 9 + 9 + 169 + 1} = \\sqrt{197}$<br>\n",
    "<b> Pythonic Solution: <b>"
   ]
  },
  {
   "cell_type": "code",
   "execution_count": 15,
   "id": "e5a478e8",
   "metadata": {
    "scrolled": true
   },
   "outputs": [
    {
     "name": "stdout",
     "output_type": "stream",
     "text": [
      "d(u,v):  14.035668847618199\n",
      "distance: 14.035668847618199\n"
     ]
    }
   ],
   "source": [
    "##3h##\n",
    "u = np.array([2,-5,4,6,-3]) #vector u\n",
    "v = np.array([5, -2, 1, -7, -4])  #vector v\n",
    "\n",
    "\n",
    "print(\"d(u,v): \",np.linalg.norm(u-v))\n",
    "print(\"distance:\",np.sqrt(197))"
   ]
  },
  {
   "cell_type": "markdown",
   "id": "2326cef0",
   "metadata": {},
   "source": [
    "#### i) Find $d(\\textbf{w},\\textbf{v})$.\n",
    "$d(\\textbf{w},\\textbf{v}) = ||\\textbf{w} - \\textbf{v}|| = \\sqrt{((2-5)^2 + ((1)-(-2))^2 + (-3-1)^2 + (-7 - 0)^2 + (-4 - 0)} = \\sqrt{(-3)^2 + (3)^2 + (-4)^2 + (-7)^2 + (-4)^2} = \\sqrt{9 + 9 + 16 + 49 + 16} = \\sqrt{99}$<br>\n",
    "<b> Pythonic Solution: <b>"
   ]
  },
  {
   "cell_type": "code",
   "execution_count": 36,
   "id": "d538eb61",
   "metadata": {},
   "outputs": [
    {
     "name": "stdout",
     "output_type": "stream",
     "text": [
      "d(w,v):  9.9498743710662\n",
      "distance: 9.9498743710662\n"
     ]
    }
   ],
   "source": [
    "##3i##\n",
    "\n",
    "v = np.array([5, -2, 1, -7, -4])  #vector v\n",
    "w = np.array([2,1,-3, 0, 0])   #vector w\n",
    "\n",
    "print(\"d(w,v): \",np.linalg.norm(w-v))\n",
    "print(\"distance:\",np.sqrt(99))"
   ]
  },
  {
   "cell_type": "markdown",
   "id": "10f531af",
   "metadata": {},
   "source": [
    "###### j) Find $d(\\textbf{u},\\textbf{w})$.\n",
    "$d(\\textbf{u},\\textbf{w}) = ||\\textbf{u} - \\textbf{w}|| = \\sqrt{((2-2)^2 + ((-5)-(1))^2 + (4-(-3))^2} = \\sqrt{(0)^2 + (-6)^2 + (7)^2 + 6^2 + (-3)^2} = \\sqrt{0 + 36 + 49 + 36 + 9} = \\sqrt{130}$<br>\n",
    "<b> Pythonic Solution: <b>"
   ]
  },
  {
   "cell_type": "code",
   "execution_count": 37,
   "id": "b7b69029",
   "metadata": {},
   "outputs": [
    {
     "name": "stdout",
     "output_type": "stream",
     "text": [
      "d(u,w):  11.40175425099138\n",
      "distance: 11.40175425099138\n"
     ]
    }
   ],
   "source": [
    "##3j##\n",
    "u = np.array([2,-5,4,6,-3]) #vector u\n",
    "w = np.array([2,1,-3, 0, 0])   #vector w\n",
    "\n",
    "\n",
    "print(\"d(u,w): \",np.linalg.norm(u-w))\n",
    "print(\"distance:\",np.sqrt(130))"
   ]
  },
  {
   "cell_type": "markdown",
   "id": "ddf8142c",
   "metadata": {},
   "source": [
    "###### k) Find $proj(\\textbf{u},\\textbf{v})$.\n",
    "$proj(\\textbf{u},\\textbf{v}) = \\frac{\\textbf{u} \\cdotp \\textbf{v}}{\\textbf{v} \\cdotp \\textbf{v}} \\textbf{v} = \\frac{\\textbf{u} \\cdotp \\textbf{v}}{||\\textbf{v}||^2} \\textbf{v} $<br>\n",
    "${u}\\cdotp{v} = 2(5) + -5(-2) + 4(1) + 6(-7) + -3(-4) = 10 + 10 + 4 - 42 + 12 = -6$<br>\n",
    "$||\\textbf{v}|| = \\sqrt{{v}\\cdot{v}} = \\sqrt{(5)^2 + (-2)^2 + (1)^2 + (-7)^2 + (-4)^2} = \\sqrt{25 + 4 1 + 49 + 16} = \\sqrt{95}$<br>\n",
    "$proj(\\textbf{u},\\textbf{v}) = \\frac{-6}{\\sqrt{95}^2}(5, -2, 1, -7, -4) = (\\frac{-30}{95},\\frac{12}{95},\\frac{-6}{95}, \\frac{42}{95}, \\frac{24}{95})$<br>\n",
    "<b> Pythonic Solution: <b>"
   ]
  },
  {
   "cell_type": "code",
   "execution_count": 24,
   "id": "a30471d0",
   "metadata": {},
   "outputs": [
    {
     "name": "stdout",
     "output_type": "stream",
     "text": [
      "proj(u,v): [-0.31578947  0.12631579 -0.06315789  0.44210526  0.25263158]\n",
      "proj(u,v):  [-0.3157894736842105, 0.12631578947368421, -0.06315789473684211, 0.4421052631578947, 0.25263157894736843]\n"
     ]
    }
   ],
   "source": [
    "##3k##\n",
    "u = np.array([2,-5,4,6,-3]) #vector u\n",
    "v = np.array([5, -2, 1, -7, -4])  #vector v\n",
    "\n",
    "\n",
    "print('proj(u,v):', u.dot(v)*v/(np.linalg.norm(v)**2))\n",
    "print('proj(u,v): ', [-30/95, 12/95, -6/95, 42/95, 24/95])"
   ]
  },
  {
   "cell_type": "markdown",
   "id": "254ba0e9",
   "metadata": {},
   "source": [
    "###### l) Find $proj(\\textbf{w},\\textbf{v})$.\n",
    "$proj(\\textbf{w},\\textbf{v}) = \\frac{\\textbf{w} \\cdotp \\textbf{v}}{\\textbf{v} \\cdotp \\textbf{v}} \\textbf{v} = \\frac{\\textbf{w} \\cdotp \\textbf{v}}{||\\textbf{v}||^2} \\textbf{v} $<br>\n",
    "${v}\\cdotp{w} = 5(2) + -2(1) + 1(-3) = 10 - 2 - 3 = 5 $<br>\n",
    "$||\\textbf{v}|| = \\sqrt{{v}\\cdot{v}} = \\sqrt{(5)^2 + (-2)^2 + (1)^2 + (-7)^2 + (-4)^2} = \\sqrt{25 + 4 1 + 49 + 16} = \\sqrt{95}$<br>\n",
    "$proj(\\textbf{u},\\textbf{v}) = \\frac{5}{\\sqrt{95}^2}(5, -2, 1, -7, -4) = (\\frac{25}{95},\\frac{-10}{95},\\frac{5}{95}, \\frac{-35}{95}, \\frac{-20}{95}) = (\\frac{5}{19},\\frac{-2}{19},\\frac{1}{19}, \\frac{-7}{19}, \\frac{-4}{19})$<br>\n",
    "<b> Pythonic Solution: <b>"
   ]
  },
  {
   "cell_type": "code",
   "execution_count": 27,
   "id": "cb3799aa",
   "metadata": {},
   "outputs": [
    {
     "name": "stdout",
     "output_type": "stream",
     "text": [
      "proj(w,v): [ 0.26315789 -0.10526316  0.05263158 -0.36842105 -0.21052632]\n",
      "proj(w,v):  [0.2631578947368421, -0.10526315789473684, 0.05263157894736842, -0.3684210526315789, -0.21052631578947367]\n"
     ]
    }
   ],
   "source": [
    "##3l##\n",
    "w = np.array([2,1,-3, 0, 0])   #vector w\n",
    "v = np.array([5, -2, 1, -7, -4])  #vector v\n",
    "\n",
    "\n",
    "print('proj(w,v):', w.dot(v)*v/(np.linalg.norm(v)**2))\n",
    "print('proj(w,v): ', [5/19, -2/19, 1/19, -7/19, -4/19])"
   ]
  },
  {
   "cell_type": "markdown",
   "id": "bc1f9cad",
   "metadata": {},
   "source": [
    "###### m) Find $proj(\\textbf{u},\\textbf{w})$.\n",
    "$proj(\\textbf{u},\\textbf{w}) = \\frac{\\textbf{u} \\cdotp \\textbf{w}}{\\textbf{w} \\cdotp \\textbf{w}} \\textbf{w} = \\frac{\\textbf{u} \\cdotp \\textbf{w}}{||\\textbf{w}||^2} \\textbf{w} $<br>\n",
    "${u}\\cdotp{w} = 2(2) + -5(1) + 4(-3) = 4 - 5 - 12 = -13$<br>\n",
    "$||\\textbf{w}|| = \\sqrt{{w}\\cdot{w}} = \\sqrt{(2)^2 + (1)^2 + (-3)^2} = \\sqrt{4+1+9} = \\sqrt{14}$<br>\n",
    "$proj(\\textbf{u},\\textbf{v}) = \\frac{-13}{\\sqrt{14}^2}(2, 1, -3) = (\\frac{-26}{14},\\frac{-13}{14},\\frac{39}{14}) = (\\frac{-13}{7},\\frac{-13}{14},\\frac{39}{14})$<br>\n",
    "<b> Pythonic Solution: <b>"
   ]
  },
  {
   "cell_type": "code",
   "execution_count": 30,
   "id": "efb14b56",
   "metadata": {},
   "outputs": [
    {
     "name": "stdout",
     "output_type": "stream",
     "text": [
      "proj(u,w): [-1.85714286 -0.92857143  2.78571429  0.          0.        ]\n",
      "proj(u,w):  [-1.8571428571428572, -0.9285714285714286, 2.7857142857142856]\n"
     ]
    }
   ],
   "source": [
    "##3m##\n",
    "u = np.array([2,-5,4,6,-3]) #vector u\n",
    "w = np.array([2,1,-3,0,0])   #vector w\n",
    "\n",
    "\n",
    "print('proj(u,w):', u.dot(w)*w/(np.linalg.norm(w)**2))\n",
    "print('proj(u,w): ', [-26/14, -13/14, 39/14])"
   ]
  },
  {
   "cell_type": "markdown",
   "id": "055f3e96",
   "metadata": {},
   "source": [
    "##### 4. Normalize each vector:\n",
    "###### a) ${u} = (5, -7)$\n",
    "$||\\textbf{u}|| = \\sqrt{\\textbf{u}}\\cdotp{\\textbf{u}} = \\sqrt{5^2+(-7)^2} = \\sqrt{25+49} = \\sqrt{74}$<br>\n",
    "$\\textbf{u'} = \\frac{\\textbf{u}}{||\\textbf{u}||} = (\\frac{5}{\\sqrt{74}},\\frac{-7}{\\sqrt{74}})$<br>\n",
    "<b> Pythonic Solution: <b>"
   ]
  },
  {
   "cell_type": "code",
   "execution_count": 1,
   "id": "12a50b0c",
   "metadata": {},
   "outputs": [
    {
     "name": "stdout",
     "output_type": "stream",
     "text": [
      "||u||:  8.602325267042627\n",
      "sqrt(74) =  8.602325267042627\n",
      "u':  [-0.58123819  0.81373347]\n",
      "u':  [-0.5812381937190965, 0.813733471206735]\n"
     ]
    }
   ],
   "source": [
    "## 4a ##\n",
    "import numpy as np\n",
    "\n",
    "u = np.array([-5,7])    #vector u\n",
    "\n",
    "print(\"||u||: \", np.linalg.norm(u))\n",
    "print(\"sqrt(74) = \", np.sqrt(74))\n",
    "\n",
    "print(\"u': \", u/np.linalg.norm(u))\n",
    "print(\"u': \", [-5/np.sqrt(74), 7/np.sqrt(74)])"
   ]
  },
  {
   "cell_type": "markdown",
   "id": "39474f85",
   "metadata": {},
   "source": [
    "###### b) ${v} = (1, 2, -2, 4)$\n",
    "$||\\textbf{v}|| = \\sqrt{\\textbf{v}}\\cdotp{\\textbf{v}} = \\sqrt{1^2+2^2+(-2)^2+4^2)} = \\sqrt{1+4+4+16} = \\sqrt{25} = 5$<br>\n",
    "$\\textbf{v'} = \\frac{\\textbf{v}}{||\\textbf{v}||} = (\\frac{1}{5},\\frac{2}{5},\\frac{-2}{5},\\frac{4}{5})$<br>\n",
    "<b> Pythonic Solution: <b>"
   ]
  },
  {
   "cell_type": "code",
   "execution_count": 68,
   "id": "90c20ed4",
   "metadata": {},
   "outputs": [
    {
     "name": "stdout",
     "output_type": "stream",
     "text": [
      "||v||:  5.0\n",
      "sqrt(25) =  5.0\n",
      "v':  [ 0.2  0.4 -0.4  0.8]\n",
      "v':  [0.2, 0.4, -0.4, 0.8]\n"
     ]
    }
   ],
   "source": [
    "## 4b ##\n",
    "import numpy as np\n",
    "\n",
    "v = np.array([1, 2, -2, 4])    #vector v\n",
    "\n",
    "print(\"||v||: \", np.linalg.norm(v))\n",
    "print(\"sqrt(25) = \", np.sqrt(25))\n",
    "\n",
    "print(\"v': \", v/np.linalg.norm(v))\n",
    "print(\"v': \", [1/5,2/5,-2/5,4/5])"
   ]
  },
  {
   "cell_type": "markdown",
   "id": "fa89834e",
   "metadata": {},
   "source": [
    "###### c) ${w} = (\\frac{1}{2}, \\frac{-1}{3}, \\frac{3}{4})$\n",
    "$||\\textbf{w}|| = \\sqrt{\\textbf{w}}\\cdotp{\\textbf{w}} = \\sqrt{(\\frac{1}{2})^2+(\\frac{-1}{3})^2+(\\frac{3}{4})^2)} = \\sqrt{\\frac{1}{4} + \\frac{1}{9} + \\frac{9}{16}} = \\sqrt{\\frac{133}{144}}$<br>\n",
    "$\\textbf{w'} = \\frac{\\textbf{w}}{||\\textbf{w}||} = (\\frac{\\frac{1}{2}}{\\sqrt{\\frac{133}{144}}},\\frac{\\frac{-1}{3}}{\\sqrt{\\frac{133}{144}}},\\frac{\\frac{3}{4}}{\\sqrt{\\frac{133}{144}}})$<br>\n",
    "<b> Pythonic Solution: <b>"
   ]
  },
  {
   "cell_type": "code",
   "execution_count": 70,
   "id": "a287e873",
   "metadata": {},
   "outputs": [
    {
     "name": "stdout",
     "output_type": "stream",
     "text": [
      "||w||:  0.961046882889233\n",
      "sqrt(133/144) =  0.961046882889233\n",
      "w':  [ 0.52026598 -0.34684399  0.78039897]\n",
      "w':  [0.520265981714472, -0.346843987809648, 0.780398972571708]\n"
     ]
    }
   ],
   "source": [
    "## 4c ##\n",
    "import numpy as np\n",
    "\n",
    "w = np.array([1/2, -1/3, 3/4])    #vector w\n",
    "\n",
    "print(\"||w||: \", np.linalg.norm(w))\n",
    "print(\"sqrt(133/144) = \", np.sqrt(133/144))\n",
    "\n",
    "print(\"w': \", w/np.linalg.norm(w))\n",
    "print(\"w': \", [1/2/np.sqrt(133/144),-1/3/np.sqrt(133/144),3/4/np.sqrt(133/144)])"
   ]
  },
  {
   "cell_type": "markdown",
   "id": "c317daea",
   "metadata": {},
   "source": [
    "##### 5. Let  $\\textbf{u} = (1, 2, -2),\\space \\textbf{v} = (3, -12, 4) \\space and\\space a\\space scalar\\space\\textbf{k} = -3$\n",
    "###### Find  $||\\textbf{u}||, ||\\textbf{v}||, ||\\textbf{u + v}||, ||\\textbf{ku}||$\n",
    "$||\\textbf{u}|| = \\sqrt{{u}\\cdot{u}} = \\sqrt{1^2+2^2+(-2)^2} = \\sqrt{1+4+4} = \\sqrt{9} = 3$<br>\n",
    "$||\\textbf{v}|| = \\sqrt{{v}\\cdot{v}} = \\sqrt{3^2+(-12)^2+4^2} = \\sqrt{9+144+16} = \\sqrt{169} = 13$<br>\n",
    "$||\\textbf{u + v}|| = \\sqrt{(1 + 3)^2 + (2 - 12)^2 + (-2 + 4)^2} = \\sqrt{4^2 + (-10)^2 + 2^2} = \\sqrt{16 + 100 + 4} = \\sqrt{120}$<br>\n",
    "$||\\textbf{ku}|| = \\sqrt{(3(1))^2 + (3(2))^2 + (3(-2))^2} = \\sqrt{3^2 + 6^2 + (-6)^2} = \\sqrt{9 + 36 + 36} = \\sqrt{81} = 9$<br><br>\n",
    "<b> Pythonic Solution: <b>"
   ]
  },
  {
   "cell_type": "code",
   "execution_count": 9,
   "id": "3316bd98",
   "metadata": {},
   "outputs": [
    {
     "name": "stdout",
     "output_type": "stream",
     "text": [
      "||u|| =  3.0\n",
      "||v|| =  13.0\n",
      "||u + v|| =  10.954451150103322\n",
      "check:  10.954451150103322\n",
      "||ku|| =  9.0\n"
     ]
    }
   ],
   "source": [
    "## 5 ##\n",
    "import numpy as np\n",
    "\n",
    "u = np.array([1, 2, -2])    #vector u\n",
    "v = np.array([3, -12, 4])    #vector v\n",
    "k  =-3\n",
    "\n",
    "print(\"||u|| = \", np.linalg.norm(u))\n",
    "print(\"||v|| = \", np.linalg.norm(v))\n",
    "print(\"||u + v|| = \", np.linalg.norm(u+v))\n",
    "print(\"check: \", np.sqrt(120))\n",
    "print(\"||ku|| = \", np.linalg.norm(k*u))"
   ]
  },
  {
   "cell_type": "markdown",
   "id": "888a7f91",
   "metadata": {},
   "source": [
    "##### 6. Find $\\textbf{k}$ so that $\\textbf{u and v}$ are orthogonal\n",
    "###### a) $\\textbf{u} = (3, {k}, - 2), \\textbf{v} = (6, -4, -3)$\n",
    "$u.v = 0$<br>\n",
    "$3(6) + -4(k) + -2(-3) = 0$<br>\n",
    "$18 - 4k + 6$<br>\n",
    "$-4k + 24$<br>\n",
    "$k - 6 $<br>\n",
    "$k = 6$<br><br>\n",
    "<b> Pythonic Solution: <b>"
   ]
  },
  {
   "cell_type": "code",
   "execution_count": 12,
   "id": "327f3227",
   "metadata": {},
   "outputs": [
    {
     "name": "stdout",
     "output_type": "stream",
     "text": [
      "The value(s) of k for which u and v are orthogonal: [6]\n"
     ]
    }
   ],
   "source": [
    "import numpy as np\n",
    "from sympy import symbols, Eq, solve\n",
    "k = symbols('k')\n",
    "\n",
    "\n",
    "u = (3, k, -2)\n",
    "v = (6, -4, -3)\n",
    "\n",
    "\n",
    "dot_product = np.dot(u, v)\n",
    "\n",
    "\n",
    "equation = Eq(dot_product, 0)\n",
    "solution = solve(equation, k)\n",
    "\n",
    "\n",
    "print(\"The value(s) of k for which u and v are orthogonal:\", solution)"
   ]
  },
  {
   "cell_type": "markdown",
   "id": "4a460794",
   "metadata": {},
   "source": [
    "###### b) $\\textbf{u} = (5, {k}, -4, 2), \\textbf{v} = (1, -3, 2, 2{k})$\n",
    "$u.v = 0$<br>\n",
    "$5(1) + k(-3) + -4(2) + 2(2k)$<br>\n",
    "$5 -3k -8 + 4k$<br>\n",
    "$k - 3$<br>\n",
    "$k = 3$<br><br>\n",
    "<b> Pythonic Solution: <b>"
   ]
  },
  {
   "cell_type": "code",
   "execution_count": 8,
   "id": "686e72fe",
   "metadata": {},
   "outputs": [
    {
     "name": "stdout",
     "output_type": "stream",
     "text": [
      "The value(s) of k for which u and v are orthogonal: [3]\n"
     ]
    }
   ],
   "source": [
    "import numpy as np\n",
    "from sympy import symbols, Eq, solve\n",
    "\n",
    "k = symbols('k')\n",
    "\n",
    "u = np.array([5, k, -4, 2])\n",
    "v = np.array([1, -3, 2, 2 * k])\n",
    "\n",
    "\n",
    "dot_product = np.dot(u, v)\n",
    "\n",
    "\n",
    "equation = Eq(dot_product, 0)\n",
    "solution = solve(equation, k)\n",
    "\n",
    "print(\"The value(s) of k for which u and v are orthogonal:\", solution)\n"
   ]
  },
  {
   "cell_type": "markdown",
   "id": "1f8bea08",
   "metadata": {},
   "source": [
    "###### c) $\\textbf{u} = (1, 7, {k + 2}, -2), \\textbf{v} = (3, {k}, -3, {k})$\n",
    "$u.v = 0$<br>\n",
    "$1(3) + 7(k) + (k + 2)(-3) + -2(k)$<br>\n",
    "$3 + 7k - 3k - 6 - 2k$<br>\n",
    "$2k - 3$<br>\n",
    "$2k = 3$<br>\n",
    "$k = \\frac{3}{2}$<br><br>\n",
    "<b> Pythonic Solution: <b>"
   ]
  },
  {
   "cell_type": "code",
   "execution_count": 11,
   "id": "c7f68f70",
   "metadata": {},
   "outputs": [
    {
     "name": "stdout",
     "output_type": "stream",
     "text": [
      "The value(s) of k for which u and v are orthogonal: [3/2]\n"
     ]
    }
   ],
   "source": [
    "import numpy as np\n",
    "from sympy import symbols, Eq, solve\n",
    "\n",
    "k = symbols('k')\n",
    "\n",
    "\n",
    "u = np.array([1, 7, k + 2, -2])\n",
    "v = np.array([3, k, -3, k])\n",
    "\n",
    "\n",
    "dot_product = np.dot(u, v)\n",
    "\n",
    "\n",
    "equation = Eq(dot_product, 0)\n",
    "solution = solve(equation, k)\n",
    "\n",
    "\n",
    "print(\"The value(s) of k for which u and v are orthogonal:\", solution)\n"
   ]
  },
  {
   "cell_type": "code",
   "execution_count": null,
   "id": "38e7234c",
   "metadata": {},
   "outputs": [],
   "source": []
  }
 ],
 "metadata": {
  "kernelspec": {
   "display_name": "Python 3 (ipykernel)",
   "language": "python",
   "name": "python3"
  },
  "language_info": {
   "codemirror_mode": {
    "name": "ipython",
    "version": 3
   },
   "file_extension": ".py",
   "mimetype": "text/x-python",
   "name": "python",
   "nbconvert_exporter": "python",
   "pygments_lexer": "ipython3",
   "version": "3.11.4"
  }
 },
 "nbformat": 4,
 "nbformat_minor": 5
}
