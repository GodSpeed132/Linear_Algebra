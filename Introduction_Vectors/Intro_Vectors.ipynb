{
 "cells": [
  {
   "cell_type": "markdown",
   "id": "385851ac",
   "metadata": {},
   "source": [
    "#### James Vincent Bacus\n",
    "# INTRO TO VECTORS ASSIGNMENT 1\n",
    "\n",
    "$$\n",
    "-1\\leq\\frac{\\textbf{u} \\cdotp \\textbf{v}}{||\\textbf{u}|| \\ ||\\textbf{v}||} \\leq 1\n",
    "$$\n",
    "##### Proof by example: \n",
    "$$\n",
    "\\textbf{u} = (1 ,2 , 3 ),\\space\n",
    "\\textbf{v} = (4, 9, 8) \\\\\n",
    "$$$$\n",
    "\\cos{\\theta}=\\frac{\\textbf{u} \\cdotp \\textbf{v}}{||\\textbf{u}|| \\ ||\\textbf{v}||} = \\frac{1(4)+(3)(8)+2(9)}{\\sqrt{1^2+(2)^2+(3)^2}\\sqrt{4^2+9^2+8^2}} = \\frac{46}{\\sqrt{14}\\sqrt{161}}= 0.96 \\\\\n",
    "$$\n",
    "<b><font color='red'>- This proves that $ -1\\leq\\frac{\\textbf{u} \\cdotp \\textbf{v}}{||\\textbf{u}|| \\ ||\\textbf{v}||} \\leq 1$ <font>\n"
   ]
  },
  {
   "cell_type": "markdown",
   "id": "c8439a41",
   "metadata": {},
   "source": [
    "**Problem 1:**\n",
    "\n",
    "$Let \\mathbf{u} = (1, -2, 4) ,  \\mathbf{v} = (3, 5, 1) , and  \\mathbf{w} = (2, 1, -3) . Find:$\n",
    "\n",
    "$a. 3\\mathbf{u} - 2\\mathbf{v} $\n",
    "\n",
    "**Manual Solution (a):**\n",
    "\n",
    "$3\\mathbf{u} - 2\\mathbf{v} = 3(1, -2, 4) - 2(3, 5, 1) = (3,-6,12) - (6,10,2) = (-3,-16,10)$\n"
   ]
  },
  {
   "cell_type": "code",
   "execution_count": 10,
   "id": "e3191cd4",
   "metadata": {},
   "outputs": [
    {
     "name": "stdout",
     "output_type": "stream",
     "text": [
      "a. 3u - 2v = [ -3 -16  10]\n"
     ]
    }
   ],
   "source": [
    "import numpy as np\n",
    "\n",
    "# Define the vectors\n",
    "u = np.array([1, -2, 4])\n",
    "v = np.array([3, 5, 1])\n",
    "w = np.array([2, 1, -3])\n",
    "\n",
    "# a. 3u - 2v\n",
    "result_a = 3 * u - 2 * v\n",
    "\n",
    "# Print result a\n",
    "print(\"a. 3u - 2v =\", result_a)\n",
    "\n"
   ]
  },
  {
   "cell_type": "markdown",
   "id": "80978836",
   "metadata": {},
   "source": [
    "b) $5\\mathbf{u} + 3\\mathbf{v} - 4\\mathbf{w} = 5(1, -2, 4) + 3(3, 5, 1) - 4(2, 1, -3) = (6,1,11)$\n"
   ]
  },
  {
   "cell_type": "code",
   "execution_count": 11,
   "id": "6c78db03",
   "metadata": {},
   "outputs": [
    {
     "name": "stdout",
     "output_type": "stream",
     "text": [
      "b. 5u + 3v - 4w = [ 6  1 35]\n"
     ]
    }
   ],
   "source": [
    "# b. 5u + 3v - 4w\n",
    "result_b = 5 * u + 3 * v - 4 * w\n",
    "\n",
    "# Print result b\n",
    "print(\"b. 5u + 3v - 4w =\", result_b)\n"
   ]
  },
  {
   "cell_type": "markdown",
   "id": "6736d987",
   "metadata": {},
   "source": [
    "c)\n",
    "\n",
    "$\\mathbf{u} \\cdot \\mathbf{v} = (1, -2, 4) \\cdot (3, 5, 1) = 3 - 10 + 4 = -3$\n",
    "\n",
    "$\\mathbf{v} \\cdot \\mathbf{w} = (3, 5, 1) \\cdot (2, 1, -3) = 6 + 5 - 3 = 8$\n",
    "\n",
    "$\\mathbf{u} \\cdot \\mathbf{w} = (1, -2, 4) \\cdot (2, 1, -3) = 2 - 2 - 12 = -12$\n"
   ]
  },
  {
   "cell_type": "code",
   "execution_count": 12,
   "id": "b2f71d40",
   "metadata": {},
   "outputs": [
    {
     "name": "stdout",
     "output_type": "stream",
     "text": [
      "c. u.v = -3\n",
      "   v.w = 8\n",
      "   u.w = -12\n"
     ]
    }
   ],
   "source": [
    "# c. u.v, v.w, u.w (dot products)\n",
    "result_c_u_dot_v = np.dot(u, v)\n",
    "result_c_v_dot_w = np.dot(v, w)\n",
    "result_c_u_dot_w = np.dot(u, w)\n",
    "\n",
    "# Print results for c\n",
    "print(\"c. u.v =\", result_c_u_dot_v)\n",
    "print(\"   v.w =\", result_c_v_dot_w)\n",
    "print(\"   u.w =\", result_c_u_dot_w)\n"
   ]
  },
  {
   "cell_type": "markdown",
   "id": "5a746de7",
   "metadata": {},
   "source": [
    "d)\n",
    "\n",
    "$\\| \\mathbf{u} \\| = \\sqrt{1^2 + (-2)^2 + 4^2} = \\sqrt{21}$\n",
    "\n",
    "$\\| \\mathbf{v} \\| = \\sqrt{3^2 + 5^2 + 1^2} = \\sqrt{35}$\n",
    "\n",
    "$\\| \\mathbf{w} \\| = \\sqrt{2^2 + 1^2 + (-3)^2} = \\sqrt{14}$\n",
    "\n"
   ]
  },
  {
   "cell_type": "code",
   "execution_count": 13,
   "id": "f062e445",
   "metadata": {},
   "outputs": [
    {
     "name": "stdout",
     "output_type": "stream",
     "text": [
      "d. ||u|| = 4.58257569495584\n",
      "   ||v|| = 5.916079783099616\n",
      "   ||w|| = 3.7416573867739413\n"
     ]
    }
   ],
   "source": [
    "# d. ||u||, ||v||, ||w|| (norms)\n",
    "result_d_u_norm = np.linalg.norm(u)\n",
    "result_d_v_norm = np.linalg.norm(v)\n",
    "result_d_w_norm = np.linalg.norm(w)\n",
    "\n",
    "# Print results for d\n",
    "print(\"d. ||u|| =\", result_d_u_norm)\n",
    "print(\"   ||v|| =\", result_d_v_norm)\n",
    "print(\"   ||w|| =\", result_d_w_norm)\n"
   ]
  },
  {
   "cell_type": "markdown",
   "id": "6656a15c",
   "metadata": {},
   "source": [
    "e)\n",
    "\n",
    "$\\cos \\theta = \\frac{\\mathbf{u} \\cdot \\mathbf{v}}{\\|\\mathbf{u}\\| \\cdot \\|\\mathbf{v}\\|} = \\frac{(-3)}{\\sqrt{21} \\cdot \\sqrt{35}}$\n"
   ]
  },
  {
   "cell_type": "code",
   "execution_count": 14,
   "id": "2dff0b74",
   "metadata": {},
   "outputs": [
    {
     "name": "stdout",
     "output_type": "stream",
     "text": [
      "e. Cosine of angle between u and v = -0.11065666703449763\n"
     ]
    }
   ],
   "source": [
    "# e. Cosine of angle between u and v\n",
    "cosine_theta = result_c_u_dot_v / (result_d_u_norm * result_d_v_norm)\n",
    "\n",
    "# Print result e\n",
    "print(\"e. Cosine of angle between u and v =\", cosine_theta)\n"
   ]
  },
  {
   "cell_type": "markdown",
   "id": "0531f5ad",
   "metadata": {},
   "source": [
    "f)\n",
    "\n",
    "To find \\( \\cos \\alpha \\), we can use the dot product formula:\n",
    "\n",
    "$\\cos \\alpha = \\frac{\\mathbf{v} \\cdot \\mathbf{w}}{\\|\\mathbf{v}\\| \\cdot \\|\\mathbf{w}\\|} = \\frac{8}{\\sqrt{35} \\cdot \\sqrt{14}}$\n",
    "\n"
   ]
  },
  {
   "cell_type": "code",
   "execution_count": 15,
   "id": "81d44e26",
   "metadata": {},
   "outputs": [
    {
     "name": "stdout",
     "output_type": "stream",
     "text": [
      "f. Cosine of angle between v and w = 0.36140316116210053\n"
     ]
    }
   ],
   "source": [
    "# f. Cosine of angle between v and w\n",
    "cosine_alpha = result_c_v_dot_w / (result_d_v_norm * result_d_w_norm)\n",
    "\n",
    "# Print result f\n",
    "print(\"f. Cosine of angle between v and w =\", cosine_alpha)\n"
   ]
  },
  {
   "cell_type": "markdown",
   "id": "8649d824",
   "metadata": {},
   "source": [
    "g)\n",
    "\n",
    "To find \\( \\cos \\beta \\), we can use the dot product formula:\n",
    "\n",
    "$\\cos \\beta = \\frac{\\mathbf{u} \\cdot \\mathbf{w}}{\\|\\mathbf{u}\\| \\cdot \\|\\mathbf{w}\\|} = \\frac{-12}{\\sqrt{21} \\cdot \\sqrt{14}}$\n"
   ]
  },
  {
   "cell_type": "code",
   "execution_count": 16,
   "id": "ddfb47e4",
   "metadata": {},
   "outputs": [
    {
     "name": "stdout",
     "output_type": "stream",
     "text": [
      "g. Cosine of angle between u and w = -0.6998542122237653\n"
     ]
    }
   ],
   "source": [
    "# g. Cosine of angle between u and w\n",
    "cosine_beta = result_c_u_dot_w / (result_d_u_norm * result_d_w_norm)\n",
    "\n",
    "# Print result g\n",
    "print(\"g. Cosine of angle between u and w =\", cosine_beta)\n"
   ]
  },
  {
   "cell_type": "markdown",
   "id": "aa8d0453",
   "metadata": {},
   "source": [
    "h)\n",
    "\n",
    "To find \\( \\cos \\beta \\), we can use the dot product formula:\n",
    "\n",
    "$\\cos \\beta = \\frac{\\mathbf{u} \\cdot \\mathbf{w}}{\\|\\mathbf{u}\\| \\cdot \\|\\mathbf{w}\\|} = \\frac{-12}{\\sqrt{21} \\cdot \\sqrt{14}}$\n"
   ]
  },
  {
   "cell_type": "code",
   "execution_count": 17,
   "id": "aef4d12b",
   "metadata": {},
   "outputs": [
    {
     "name": "stdout",
     "output_type": "stream",
     "text": [
      "h. Distance between u and v = 7.874007874011811\n"
     ]
    }
   ],
   "source": [
    "# h. Distance between u and v\n",
    "distance_uv = np.linalg.norm(u - v)\n",
    "\n",
    "# Print result h\n",
    "print(\"h. Distance between u and v =\", distance_uv)\n"
   ]
  },
  {
   "cell_type": "markdown",
   "id": "90ef0eee",
   "metadata": {},
   "source": [
    "i)\n",
    "\n",
    "To find the distance $d(\\mathbf{w}, \\mathbf{v})$, we can use the norm formula:\n",
    "\n",
    "$d(\\mathbf{w}, \\mathbf{v}) = \\|\\mathbf{w} - \\mathbf{v}\\| = \\left\\| \\begin{bmatrix} 2 \\\\ 1 \\\\ -3 \\end{bmatrix} - \\begin{bmatrix} 3 \\\\ 5 \\\\ 1 \\end{bmatrix} \\right\\| = \\sqrt{(-1)^2 + (-4)^2 + (-4)^2}$\n"
   ]
  },
  {
   "cell_type": "code",
   "execution_count": 18,
   "id": "baaeaa95",
   "metadata": {},
   "outputs": [
    {
     "name": "stdout",
     "output_type": "stream",
     "text": [
      "i. Distance between w and v = 5.744562646538029\n"
     ]
    }
   ],
   "source": [
    "# i. Distance between w and v\n",
    "distance_wv = np.linalg.norm(w - v)\n",
    "\n",
    "# Print result i\n",
    "print(\"i. Distance between w and v =\", distance_wv)\n"
   ]
  },
  {
   "cell_type": "markdown",
   "id": "21bf3cda",
   "metadata": {},
   "source": [
    "j)\n",
    "\n",
    "To find the distance $d(\\mathbf{u}, \\mathbf{w})$, we can use the norm formula:\n",
    "\n",
    "$d(\\mathbf{u}, \\mathbf{w}) = \\|\\mathbf{u} - \\mathbf{w}\\| = \\left\\| \\begin{bmatrix} 1 \\\\ -2 \\\\ 4 \\end{bmatrix} - \\begin{bmatrix} 2 \\\\ 1 \\\\ -3 \\end{bmatrix} \\right\\| = \\sqrt{(-1)^2 + (-3)^2 + 7^2}$\n"
   ]
  },
  {
   "cell_type": "code",
   "execution_count": 19,
   "id": "3c9f9bdb",
   "metadata": {},
   "outputs": [
    {
     "name": "stdout",
     "output_type": "stream",
     "text": [
      "j. Distance between u and w = 7.681145747868608\n"
     ]
    }
   ],
   "source": [
    "# j. Distance between u and w\n",
    "distance_uw = np.linalg.norm(u - w)\n",
    "\n",
    "# Print result j\n",
    "print(\"j. Distance between u and w =\", distance_uw)\n"
   ]
  },
  {
   "cell_type": "markdown",
   "id": "6c6237da",
   "metadata": {},
   "source": [
    "k)\n",
    "\n",
    "To find $\\text{proj}(\\mathbf{u}, \\mathbf{v})$, we can use the projection formula:\n",
    "\n",
    "$\\text{proj}(\\mathbf{u}, \\mathbf{v}) = \\frac{\\mathbf{u} \\cdot \\mathbf{v}}{\\|\\mathbf{v}\\|^2} \\cdot \\mathbf{v} = \\frac{-3}{\\sqrt{35}} \\cdot \\begin{bmatrix} 3 \\\\ 5 \\\\ 1 \\end{bmatrix}$\n",
    "\n"
   ]
  },
  {
   "cell_type": "code",
   "execution_count": 20,
   "id": "e6cc077a",
   "metadata": {},
   "outputs": [
    {
     "name": "stdout",
     "output_type": "stream",
     "text": [
      "k. Projection of u onto v = [-0.25714286 -0.42857143 -0.08571429]\n"
     ]
    }
   ],
   "source": [
    "# k. Projection of u onto v\n",
    "projection_uv = (result_c_u_dot_v / (result_d_v_norm ** 2)) * v\n",
    "\n",
    "# Print result k\n",
    "print(\"k. Projection of u onto v =\", projection_uv)\n"
   ]
  },
  {
   "cell_type": "markdown",
   "id": "9d3950d2",
   "metadata": {},
   "source": [
    "L)\n",
    "\n",
    "To find $\\text{proj}(\\mathbf{w}, \\mathbf{v})$, we can use the projection formula:\n",
    "\n",
    "$\\text{proj}(\\mathbf{w}, \\mathbf{v}) = \\frac{\\mathbf{w} \\cdot \\mathbf{v}}{\\|\\mathbf{v}\\|^2} \\cdot \\mathbf{v} = \\frac{8}{\\sqrt{35}} \\cdot \\begin{bmatrix} 3 \\\\ 5 \\\\ 1 \\end{bmatrix}$\n",
    "\n"
   ]
  },
  {
   "cell_type": "code",
   "execution_count": 21,
   "id": "ada103e2",
   "metadata": {},
   "outputs": [
    {
     "name": "stdout",
     "output_type": "stream",
     "text": [
      "l. Projection of w onto v = [0.68571429 1.14285714 0.22857143]\n"
     ]
    }
   ],
   "source": [
    "# l. Projection of w onto v\n",
    "projection_wv = (result_c_v_dot_w / (result_d_v_norm ** 2)) * v\n",
    "\n",
    "# Print result l\n",
    "print(\"l. Projection of w onto v =\", projection_wv)\n"
   ]
  },
  {
   "cell_type": "markdown",
   "id": "96920767",
   "metadata": {},
   "source": [
    "m)\n",
    "\n",
    "To find $\\text{proj}(\\mathbf{u}, \\mathbf{w})$, we can use the projection formula:\n",
    "\n",
    "$\\text{proj}(\\mathbf{u}, \\mathbf{w}) = \\frac{\\mathbf{u} \\cdot \\mathbf{w}}{\\|\\mathbf{w}\\|^2} \\cdot \\mathbf{w} = \\frac{-12}{\\sqrt{14}} \\cdot \\begin{bmatrix} 2 \\\\ 1 \\\\ -3 \\end{bmatrix}$\n"
   ]
  },
  {
   "cell_type": "code",
   "execution_count": 22,
   "id": "c0e5d736",
   "metadata": {},
   "outputs": [
    {
     "name": "stdout",
     "output_type": "stream",
     "text": [
      "m. Projection of u onto w = [-1.71428571 -0.85714286  2.57142857]\n"
     ]
    }
   ],
   "source": [
    "# m. Projection of u onto w\n",
    "projection_uw = (result_c_u_dot_w / (result_d_w_norm ** 2)) * w\n",
    "\n",
    "# Print result m\n",
    "print(\"m. Projection of u onto w =\", projection_uw)\n"
   ]
  },
  {
   "cell_type": "code",
   "execution_count": null,
   "id": "e970e1ae",
   "metadata": {},
   "outputs": [],
   "source": []
  }
 ],
 "metadata": {
  "kernelspec": {
   "display_name": "Python 3 (ipykernel)",
   "language": "python",
   "name": "python3"
  },
  "language_info": {
   "codemirror_mode": {
    "name": "ipython",
    "version": 3
   },
   "file_extension": ".py",
   "mimetype": "text/x-python",
   "name": "python",
   "nbconvert_exporter": "python",
   "pygments_lexer": "ipython3",
   "version": "3.11.4"
  }
 },
 "nbformat": 4,
 "nbformat_minor": 5
}
